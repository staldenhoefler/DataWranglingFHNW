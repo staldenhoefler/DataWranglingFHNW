{
 "cells": [
  {
   "cell_type": "markdown",
   "id": "5c8eb85c",
   "metadata": {},
   "source": [
    "<img src=\"header.png\" width=\"1000\">"
   ]
  },
  {
   "cell_type": "markdown",
   "id": "88be4e9d",
   "metadata": {},
   "source": [
    "Bibliotheken einbinden (bei Bedarf darfst du gerne weitere benutzen):"
   ]
  },
  {
   "cell_type": "code",
   "execution_count": 47,
   "id": "864351d1",
   "metadata": {
    "ExecuteTime": {
     "end_time": "2024-07-01T07:25:47.276890200Z",
     "start_time": "2024-07-01T07:25:47.147922900Z"
    }
   },
   "outputs": [],
   "source": [
    "import os\n",
    "\n",
    "import pandas as pd\n",
    "import numpy as np\n",
    "import matplotlib.pyplot as plt\n",
    "from tqdm.auto import tqdm\n",
    "import seaborn as sns"
   ]
  },
  {
   "cell_type": "markdown",
   "id": "c1454849",
   "metadata": {},
   "source": [
    "Versionen:"
   ]
  },
  {
   "cell_type": "code",
   "execution_count": 48,
   "id": "b8d1ea1c",
   "metadata": {
    "ExecuteTime": {
     "end_time": "2024-07-01T07:25:47.307868Z",
     "start_time": "2024-07-01T07:25:47.281885700Z"
    }
   },
   "outputs": [
    {
     "data": {
      "text/plain": "'3.10.7 (tags/v3.10.7:6cc6b13, Sep  5 2022, 14:08:36) [MSC v.1933 64 bit (AMD64)]'"
     },
     "execution_count": 48,
     "metadata": {},
     "output_type": "execute_result"
    }
   ],
   "source": [
    "from sys import version\n",
    "version"
   ]
  },
  {
   "cell_type": "code",
   "execution_count": 49,
   "id": "3438f392",
   "metadata": {
    "ExecuteTime": {
     "end_time": "2024-07-01T07:25:47.376888100Z",
     "start_time": "2024-07-01T07:25:47.310879200Z"
    }
   },
   "outputs": [
    {
     "data": {
      "text/plain": "'2.2.0'"
     },
     "execution_count": 49,
     "metadata": {},
     "output_type": "execute_result"
    }
   ],
   "source": [
    "pd.__version__"
   ]
  },
  {
   "cell_type": "code",
   "execution_count": 50,
   "id": "35165cba",
   "metadata": {
    "ExecuteTime": {
     "end_time": "2024-07-01T07:25:47.452385800Z",
     "start_time": "2024-07-01T07:25:47.352868600Z"
    }
   },
   "outputs": [
    {
     "data": {
      "text/plain": "'1.23.3'"
     },
     "execution_count": 50,
     "metadata": {},
     "output_type": "execute_result"
    }
   ],
   "source": [
    "np.__version__"
   ]
  },
  {
   "cell_type": "markdown",
   "id": "ea2f1eb0",
   "metadata": {},
   "source": [
    "## Aufgabe 1 (31 Punkte)"
   ]
  },
  {
   "cell_type": "markdown",
   "id": "2f60834c",
   "metadata": {},
   "source": [
    "Du hast dir einen Job als Data Scientist beim Hotellerie-Verband geschnappt und sollst als erstes für eine Publikation unter anderem eine aktualisierte Statistik der Anzahl der Hotelübernachtungen (\"Logiernächte\") pro Kanton erstellen. Damit soll den Hoteliers die Möglichkeit geboten werden, Trends zu erkennen und entsprechend darauf zu reagieren. \n",
    "\n",
    "\n",
    "Die kumulierte Anzahl der Logiernächte pro Jahr und Kanton, aufgeschlüsselt nach Herkunftsland, findest du in der beigefügten Datei `Hotellerie.xlsx`. In der ersten Teilaufgabe analysierst du nur die Daten für das Jahr 2023, ab Teilaufgabe b) möchtest du deine Analyse dann auf alle Jahre seit 2005 ausweiten."
   ]
  },
  {
   "cell_type": "markdown",
   "id": "6b82c83d",
   "metadata": {},
   "source": [
    "### a) (12 Punkte)\n",
    "\n",
    "Lies die Logiernächte für das Jahr 2023 aus der Excel-Datei ein und bringe sie in ein Data Frame der folgenden Form:\n",
    "\n",
    "<img src=\"hotellerie1.png\" width=\"1000\">\n",
    "\n",
    "Die Namen der einzelnen Kantone darfst du dabei nicht manuell oder mit copy&paste zuweisen, sondern sollst sie direkt mit Python/R aus der Excel-Datei lesen (das Einlesen der Spaltennamen kann auch nachgelagert in einem zweiten Schritt nach dem Einlesen der Daten erfolgen). Ebenfalls sollst du die Logiernächte nicht über manuelle Eingabe der Spaltennamen extrahieren, sondern über eine geeignete Regel in Python/R (siehe Hinweise).\n",
    "\n",
    "**Hinweise:**\n",
    "\n",
    "* Extrahiere nur die Logiernächte, der Rest (Ankünfte und Dauer) interessiert uns für diese Auswertung nicht. Die Extraktion der Logiernächte (und auch der Kantonsnamen) kann z.B. effizient mit einer Zahlenreihe mit `np.arange()` in Python oder `seq()` in R erfolgen.\n",
    "* Stelle sicher, dass die Namen der Kantone getrimmt sind (d.h. keine führenden oder nachfolgenden Whitespaces mehr enthalten).\n",
    "* Das Datenset enthält 27 statt 26 Kantone, warum sollte dir schnell klar sein.\n",
    "* Prüfe am Schluss auf fehlende Werte - dein Data Frame sollte davon keine mehr enthalten."
   ]
  },
  {
   "cell_type": "code",
   "execution_count": 51,
   "id": "f0e33fad",
   "metadata": {
    "ExecuteTime": {
     "end_time": "2024-07-01T07:25:48.074793700Z",
     "start_time": "2024-07-01T07:25:47.432386200Z"
    }
   },
   "outputs": [
    {
     "data": {
      "text/plain": "      Aargau  Appenzell-Ausserrhoden  Appenzell-Innerrhoden  Basel-Landschaft  \\\n0   358808.0                107992.0               136644.0          148142.0   \n1   151010.0                 25468.0                18087.0           45468.0   \n2    14844.0                  1941.0                  641.0            6098.0   \n3    13903.0                  2621.0                 2174.0            7821.0   \n4    17381.0                  1838.0                  870.0            7253.0   \n..       ...                     ...                    ...               ...   \n67       NaN                     NaN                    NaN               NaN   \n68       NaN                     NaN                    NaN               NaN   \n69       NaN                     NaN                    NaN               NaN   \n70       NaN                     NaN                    NaN               NaN   \n71       NaN                     NaN                    NaN               NaN   \n\n    Basel-Stadt       Bern  Fribourg    Genève    Glarus  Graubünden  ...  \\\n0      303631.0  2279621.0  259321.0  591729.0  118219.0   2951574.0  ...   \n1      202343.0   678385.0   36341.0  128181.0   16000.0   1530056.0  ...   \n2       79124.0   361096.0    5734.0  237165.0    1492.0    176337.0  ...   \n3      103871.0   168740.0    6227.0  234988.0     563.0     77430.0  ...   \n4       48297.0   138619.0   32220.0  246092.0     949.0     70584.0  ...   \n..          ...        ...       ...       ...       ...         ...  ...   \n67          NaN        NaN       NaN       NaN       NaN         NaN  ...   \n68          NaN        NaN       NaN       NaN       NaN         NaN  ...   \n69          NaN        NaN       NaN       NaN       NaN         NaN  ...   \n70          NaN        NaN       NaN       NaN       NaN         NaN  ...   \n71          NaN        NaN       NaN       NaN       NaN         NaN  ...   \n\n    St. Gallen   Thurgau     Ticino      Uri     Valais      Vaud       Zug  \\\n0     600990.0  253303.0  1396104.0  83245.0  2052731.0  989600.0  133315.0   \n1     238893.0   97024.0   407190.0  59131.0   584759.0  183595.0   45075.0   \n2      16596.0    3444.0    42574.0   7510.0   292871.0  160064.0   17557.0   \n3      17403.0    4011.0    48256.0  15410.0   101621.0  106204.0   10583.0   \n4      14015.0    5766.0    47495.0   4817.0   246214.0  344510.0    6078.0   \n..         ...       ...        ...      ...        ...       ...       ...   \n67         NaN       NaN        NaN      NaN        NaN       NaN       NaN   \n68         NaN       NaN        NaN      NaN        NaN       NaN       NaN   \n69         NaN       NaN        NaN      NaN        NaN       NaN       NaN   \n70         NaN       NaN        NaN      NaN        NaN       NaN       NaN   \n71         NaN       NaN        NaN      NaN        NaN       NaN       NaN   \n\n       Zürich     Schweiz                                           Herkunft  \n0   1196219.0  15765304.0                                            Schweiz  \n1    773320.0   5816520.0                                        Deutschland  \n2    265827.0   1853557.0                             Vereinigtes Königreich  \n3    368131.0   1506435.0                           Vereinigte Staaten / USA  \n4    121300.0   1449278.0                                         Frankreich  \n..        ...         ...                                                ...  \n67        NaN         NaN                                                NaN  \n68        NaN         NaN  ... : Zahl nicht angegeben, da nicht relevant ...  \n69        NaN         NaN                                                NaN  \n70        NaN         NaN                                      Quelle: HESTA  \n71        NaN         NaN  Auskunft: Info-Tour 058 463 62 80, info-tour@b...  \n\n[72 rows x 28 columns]",
      "text/html": "<div>\n<style scoped>\n    .dataframe tbody tr th:only-of-type {\n        vertical-align: middle;\n    }\n\n    .dataframe tbody tr th {\n        vertical-align: top;\n    }\n\n    .dataframe thead th {\n        text-align: right;\n    }\n</style>\n<table border=\"1\" class=\"dataframe\">\n  <thead>\n    <tr style=\"text-align: right;\">\n      <th></th>\n      <th>Aargau</th>\n      <th>Appenzell-Ausserrhoden</th>\n      <th>Appenzell-Innerrhoden</th>\n      <th>Basel-Landschaft</th>\n      <th>Basel-Stadt</th>\n      <th>Bern</th>\n      <th>Fribourg</th>\n      <th>Genève</th>\n      <th>Glarus</th>\n      <th>Graubünden</th>\n      <th>...</th>\n      <th>St. Gallen</th>\n      <th>Thurgau</th>\n      <th>Ticino</th>\n      <th>Uri</th>\n      <th>Valais</th>\n      <th>Vaud</th>\n      <th>Zug</th>\n      <th>Zürich</th>\n      <th>Schweiz</th>\n      <th>Herkunft</th>\n    </tr>\n  </thead>\n  <tbody>\n    <tr>\n      <th>0</th>\n      <td>358808.0</td>\n      <td>107992.0</td>\n      <td>136644.0</td>\n      <td>148142.0</td>\n      <td>303631.0</td>\n      <td>2279621.0</td>\n      <td>259321.0</td>\n      <td>591729.0</td>\n      <td>118219.0</td>\n      <td>2951574.0</td>\n      <td>...</td>\n      <td>600990.0</td>\n      <td>253303.0</td>\n      <td>1396104.0</td>\n      <td>83245.0</td>\n      <td>2052731.0</td>\n      <td>989600.0</td>\n      <td>133315.0</td>\n      <td>1196219.0</td>\n      <td>15765304.0</td>\n      <td>Schweiz</td>\n    </tr>\n    <tr>\n      <th>1</th>\n      <td>151010.0</td>\n      <td>25468.0</td>\n      <td>18087.0</td>\n      <td>45468.0</td>\n      <td>202343.0</td>\n      <td>678385.0</td>\n      <td>36341.0</td>\n      <td>128181.0</td>\n      <td>16000.0</td>\n      <td>1530056.0</td>\n      <td>...</td>\n      <td>238893.0</td>\n      <td>97024.0</td>\n      <td>407190.0</td>\n      <td>59131.0</td>\n      <td>584759.0</td>\n      <td>183595.0</td>\n      <td>45075.0</td>\n      <td>773320.0</td>\n      <td>5816520.0</td>\n      <td>Deutschland</td>\n    </tr>\n    <tr>\n      <th>2</th>\n      <td>14844.0</td>\n      <td>1941.0</td>\n      <td>641.0</td>\n      <td>6098.0</td>\n      <td>79124.0</td>\n      <td>361096.0</td>\n      <td>5734.0</td>\n      <td>237165.0</td>\n      <td>1492.0</td>\n      <td>176337.0</td>\n      <td>...</td>\n      <td>16596.0</td>\n      <td>3444.0</td>\n      <td>42574.0</td>\n      <td>7510.0</td>\n      <td>292871.0</td>\n      <td>160064.0</td>\n      <td>17557.0</td>\n      <td>265827.0</td>\n      <td>1853557.0</td>\n      <td>Vereinigtes Königreich</td>\n    </tr>\n    <tr>\n      <th>3</th>\n      <td>13903.0</td>\n      <td>2621.0</td>\n      <td>2174.0</td>\n      <td>7821.0</td>\n      <td>103871.0</td>\n      <td>168740.0</td>\n      <td>6227.0</td>\n      <td>234988.0</td>\n      <td>563.0</td>\n      <td>77430.0</td>\n      <td>...</td>\n      <td>17403.0</td>\n      <td>4011.0</td>\n      <td>48256.0</td>\n      <td>15410.0</td>\n      <td>101621.0</td>\n      <td>106204.0</td>\n      <td>10583.0</td>\n      <td>368131.0</td>\n      <td>1506435.0</td>\n      <td>Vereinigte Staaten / USA</td>\n    </tr>\n    <tr>\n      <th>4</th>\n      <td>17381.0</td>\n      <td>1838.0</td>\n      <td>870.0</td>\n      <td>7253.0</td>\n      <td>48297.0</td>\n      <td>138619.0</td>\n      <td>32220.0</td>\n      <td>246092.0</td>\n      <td>949.0</td>\n      <td>70584.0</td>\n      <td>...</td>\n      <td>14015.0</td>\n      <td>5766.0</td>\n      <td>47495.0</td>\n      <td>4817.0</td>\n      <td>246214.0</td>\n      <td>344510.0</td>\n      <td>6078.0</td>\n      <td>121300.0</td>\n      <td>1449278.0</td>\n      <td>Frankreich</td>\n    </tr>\n    <tr>\n      <th>...</th>\n      <td>...</td>\n      <td>...</td>\n      <td>...</td>\n      <td>...</td>\n      <td>...</td>\n      <td>...</td>\n      <td>...</td>\n      <td>...</td>\n      <td>...</td>\n      <td>...</td>\n      <td>...</td>\n      <td>...</td>\n      <td>...</td>\n      <td>...</td>\n      <td>...</td>\n      <td>...</td>\n      <td>...</td>\n      <td>...</td>\n      <td>...</td>\n      <td>...</td>\n      <td>...</td>\n    </tr>\n    <tr>\n      <th>67</th>\n      <td>NaN</td>\n      <td>NaN</td>\n      <td>NaN</td>\n      <td>NaN</td>\n      <td>NaN</td>\n      <td>NaN</td>\n      <td>NaN</td>\n      <td>NaN</td>\n      <td>NaN</td>\n      <td>NaN</td>\n      <td>...</td>\n      <td>NaN</td>\n      <td>NaN</td>\n      <td>NaN</td>\n      <td>NaN</td>\n      <td>NaN</td>\n      <td>NaN</td>\n      <td>NaN</td>\n      <td>NaN</td>\n      <td>NaN</td>\n      <td>NaN</td>\n    </tr>\n    <tr>\n      <th>68</th>\n      <td>NaN</td>\n      <td>NaN</td>\n      <td>NaN</td>\n      <td>NaN</td>\n      <td>NaN</td>\n      <td>NaN</td>\n      <td>NaN</td>\n      <td>NaN</td>\n      <td>NaN</td>\n      <td>NaN</td>\n      <td>...</td>\n      <td>NaN</td>\n      <td>NaN</td>\n      <td>NaN</td>\n      <td>NaN</td>\n      <td>NaN</td>\n      <td>NaN</td>\n      <td>NaN</td>\n      <td>NaN</td>\n      <td>NaN</td>\n      <td>... : Zahl nicht angegeben, da nicht relevant ...</td>\n    </tr>\n    <tr>\n      <th>69</th>\n      <td>NaN</td>\n      <td>NaN</td>\n      <td>NaN</td>\n      <td>NaN</td>\n      <td>NaN</td>\n      <td>NaN</td>\n      <td>NaN</td>\n      <td>NaN</td>\n      <td>NaN</td>\n      <td>NaN</td>\n      <td>...</td>\n      <td>NaN</td>\n      <td>NaN</td>\n      <td>NaN</td>\n      <td>NaN</td>\n      <td>NaN</td>\n      <td>NaN</td>\n      <td>NaN</td>\n      <td>NaN</td>\n      <td>NaN</td>\n      <td>NaN</td>\n    </tr>\n    <tr>\n      <th>70</th>\n      <td>NaN</td>\n      <td>NaN</td>\n      <td>NaN</td>\n      <td>NaN</td>\n      <td>NaN</td>\n      <td>NaN</td>\n      <td>NaN</td>\n      <td>NaN</td>\n      <td>NaN</td>\n      <td>NaN</td>\n      <td>...</td>\n      <td>NaN</td>\n      <td>NaN</td>\n      <td>NaN</td>\n      <td>NaN</td>\n      <td>NaN</td>\n      <td>NaN</td>\n      <td>NaN</td>\n      <td>NaN</td>\n      <td>NaN</td>\n      <td>Quelle: HESTA</td>\n    </tr>\n    <tr>\n      <th>71</th>\n      <td>NaN</td>\n      <td>NaN</td>\n      <td>NaN</td>\n      <td>NaN</td>\n      <td>NaN</td>\n      <td>NaN</td>\n      <td>NaN</td>\n      <td>NaN</td>\n      <td>NaN</td>\n      <td>NaN</td>\n      <td>...</td>\n      <td>NaN</td>\n      <td>NaN</td>\n      <td>NaN</td>\n      <td>NaN</td>\n      <td>NaN</td>\n      <td>NaN</td>\n      <td>NaN</td>\n      <td>NaN</td>\n      <td>NaN</td>\n      <td>Auskunft: Info-Tour 058 463 62 80, info-tour@b...</td>\n    </tr>\n  </tbody>\n</table>\n<p>72 rows × 28 columns</p>\n</div>"
     },
     "execution_count": 51,
     "metadata": {},
     "output_type": "execute_result"
    }
   ],
   "source": [
    "# DEIN CODE\n",
    "df = pd.read_excel(\n",
    "    \"Hotellerie.xlsx\", header=None, skiprows=8, nrows=72,  \n",
    "    usecols=\"B:CD\", sheet_name='2010'\n",
    ")\n",
    "\n",
    "df = df[df.columns[1::3]]\n",
    "\n",
    "kantone = pd.read_excel(\n",
    "    \"Hotellerie.xlsx\", header=None, skiprows=2, nrows=1,  \n",
    "    usecols=\"B:CD\", sheet_name='2010', na_values=False\n",
    ")\n",
    "kantone = kantone.dropna(axis=1)\n",
    "\n",
    "kantone = kantone.apply(lambda x: x.str.strip())\n",
    "\n",
    "df.columns = kantone.stack()\n",
    "\n",
    "\n",
    "herkunft = pd.read_excel(\n",
    "    \"Hotellerie.xlsx\", header=None, skiprows=8, nrows=72,  \n",
    "    usecols=\"A\", sheet_name='2010', na_values=False\n",
    ")\n",
    "df['Herkunft'] = herkunft[0]\n",
    "df"
   ]
  },
  {
   "cell_type": "markdown",
   "id": "4a4e093c",
   "metadata": {},
   "source": [
    "### b) (5 Punkte)\n",
    "\n",
    "Du möchtest nun für jedes Jahr ein solches Data Frame erstellen. Während die Kantone seit 2005 die gleichen geblieben sind (gleiche Anzahl Spalten, gleiche Reihenfolge), variert die Anzahl der Herkunftsländer (also Anzahl der Zeilen) pro Jahr. Vermutlich hast du die Anzahl der eingelesenen Zeilen in Teilaufgabe a) hardcodiert, dies möchten wir nun automatisieren. Schreibe eine Funktion `truncate_data( df )`, die einem Data Frame `df` die überflüssigen Zeilen am Ende automatisch abschneidet und dafür sorgt, dass alle Daten im Data Frame vorhanden sind, aber keine unsinnigen oder fehlende Werte mehr vorkommen.\n",
    "\n",
    "\n",
    "**Hinweise:**\n",
    "\n",
    "* Die Anzahl der Header-Zeilen ist für alle Jahre gleich, du kannst diese wie üblich mit deiner Excel-Einlesefunktion bereits hardcodiert wegschneiden. \n",
    "* Zum Zuschneiden gibt es verschiedene Möglichkeiten, du kannst zum Beispiel nach dem ersten fehlenden Wert in `Herkunftsland` suchen.\n",
    "* Prüfe, ob deine Funktion korrekt funktioniert, indem du die Daten verschiedener Jahre damit zuschneidest und mit dem unteren Ende in der Excel-Datei vergleichst."
   ]
  },
  {
   "cell_type": "code",
   "execution_count": 52,
   "id": "ab39b2df",
   "metadata": {
    "ExecuteTime": {
     "end_time": "2024-07-01T07:25:48.092325500Z",
     "start_time": "2024-07-01T07:25:48.065787Z"
    }
   },
   "outputs": [
    {
     "data": {
      "text/plain": "'dfs = []\\n\\nfor sheet in range(0, 19):\\n    df = pd.read_excel(\\n    \"Hotellerie.xlsx\", header=None, skiprows=8, nrows=71,  \\n    usecols=\"B:CD\", sheet_name=sheet)\\n    df = df[df.columns[1::3]]\\n\\n    kantone = pd.read_excel(\\n        \"Hotellerie.xlsx\", header=None, skiprows=2, nrows=1,  \\n        usecols=\"B:CD\", sheet_name=sheet, na_values=False\\n    )\\n    kantone = kantone.dropna(axis=1)\\n    \\n    kantone = kantone.apply(lambda x: x.str.strip())\\n    \\n    df.columns = kantone.stack()\\n    \\n    herkunft = pd.read_excel(\\n    \"Hotellerie.xlsx\", header=None, skiprows=8, nrows=72,  \\n    usecols=\"A\", sheet_name=sheet, na_values=False\\n    )\\n    df[\\'Herkunfsland\\'] = herkunft[0]\\n    \\n    dfs.append(df)\\n    \\ndfs'"
     },
     "execution_count": 52,
     "metadata": {},
     "output_type": "execute_result"
    }
   ],
   "source": [
    "'''dfs = []\n",
    "\n",
    "for sheet in range(0, 19):\n",
    "    df = pd.read_excel(\n",
    "    \"Hotellerie.xlsx\", header=None, skiprows=8, nrows=71,  \n",
    "    usecols=\"B:CD\", sheet_name=sheet)\n",
    "    df = df[df.columns[1::3]]\n",
    "\n",
    "    kantone = pd.read_excel(\n",
    "        \"Hotellerie.xlsx\", header=None, skiprows=2, nrows=1,  \n",
    "        usecols=\"B:CD\", sheet_name=sheet, na_values=False\n",
    "    )\n",
    "    kantone = kantone.dropna(axis=1)\n",
    "    \n",
    "    kantone = kantone.apply(lambda x: x.str.strip())\n",
    "    \n",
    "    df.columns = kantone.stack()\n",
    "    \n",
    "    herkunft = pd.read_excel(\n",
    "    \"Hotellerie.xlsx\", header=None, skiprows=8, nrows=72,  \n",
    "    usecols=\"A\", sheet_name=sheet, na_values=False\n",
    "    )\n",
    "    df['Herkunfsland'] = herkunft[0]\n",
    "    \n",
    "    dfs.append(df)\n",
    "    \n",
    "dfs'''"
   ]
  },
  {
   "cell_type": "code",
   "outputs": [
    {
     "data": {
      "text/plain": "    Aargau  Appenzell-Ausserrhoden  Appenzell-Innerrhoden  Basel-Landschaft  \\\n71     NaN                     NaN                    NaN               NaN   \n\n    Basel-Stadt  Bern  Fribourg  Genève  Glarus  Graubünden  ...  St. Gallen  \\\n71          NaN   NaN       NaN     NaN     NaN         NaN  ...         NaN   \n\n    Thurgau  Ticino  Uri  Valais  Vaud  Zug  Zürich  Schweiz  \\\n71      NaN     NaN  NaN     NaN   NaN  NaN     NaN      NaN   \n\n                                             Herkunft  \n71  Auskunft: Info-Tour 058 463 62 80, info-tour@b...  \n\n[1 rows x 28 columns]",
      "text/html": "<div>\n<style scoped>\n    .dataframe tbody tr th:only-of-type {\n        vertical-align: middle;\n    }\n\n    .dataframe tbody tr th {\n        vertical-align: top;\n    }\n\n    .dataframe thead th {\n        text-align: right;\n    }\n</style>\n<table border=\"1\" class=\"dataframe\">\n  <thead>\n    <tr style=\"text-align: right;\">\n      <th></th>\n      <th>Aargau</th>\n      <th>Appenzell-Ausserrhoden</th>\n      <th>Appenzell-Innerrhoden</th>\n      <th>Basel-Landschaft</th>\n      <th>Basel-Stadt</th>\n      <th>Bern</th>\n      <th>Fribourg</th>\n      <th>Genève</th>\n      <th>Glarus</th>\n      <th>Graubünden</th>\n      <th>...</th>\n      <th>St. Gallen</th>\n      <th>Thurgau</th>\n      <th>Ticino</th>\n      <th>Uri</th>\n      <th>Valais</th>\n      <th>Vaud</th>\n      <th>Zug</th>\n      <th>Zürich</th>\n      <th>Schweiz</th>\n      <th>Herkunft</th>\n    </tr>\n  </thead>\n  <tbody>\n    <tr>\n      <th>71</th>\n      <td>NaN</td>\n      <td>NaN</td>\n      <td>NaN</td>\n      <td>NaN</td>\n      <td>NaN</td>\n      <td>NaN</td>\n      <td>NaN</td>\n      <td>NaN</td>\n      <td>NaN</td>\n      <td>NaN</td>\n      <td>...</td>\n      <td>NaN</td>\n      <td>NaN</td>\n      <td>NaN</td>\n      <td>NaN</td>\n      <td>NaN</td>\n      <td>NaN</td>\n      <td>NaN</td>\n      <td>NaN</td>\n      <td>NaN</td>\n      <td>Auskunft: Info-Tour 058 463 62 80, info-tour@b...</td>\n    </tr>\n  </tbody>\n</table>\n<p>1 rows × 28 columns</p>\n</div>"
     },
     "execution_count": 53,
     "metadata": {},
     "output_type": "execute_result"
    }
   ],
   "source": [
    "df.iloc[[-1]]"
   ],
   "metadata": {
    "collapsed": false,
    "ExecuteTime": {
     "end_time": "2024-07-01T07:25:48.120323800Z",
     "start_time": "2024-07-01T07:25:48.090326700Z"
    }
   },
   "id": "8308ccb27b1874d7",
   "execution_count": 53
  },
  {
   "cell_type": "code",
   "outputs": [],
   "source": [
    "def truncate_data(df:pd.DataFrame):\n",
    "    columnlist = df.loc[:, df.columns != 'Herkunft'].columns\n",
    "    df.dropna(how='all', axis=0, subset=columnlist, inplace=True)\n",
    "    return df\n",
    "    "
   ],
   "metadata": {
    "collapsed": false,
    "ExecuteTime": {
     "end_time": "2024-07-01T07:25:48.151323300Z",
     "start_time": "2024-07-01T07:25:48.098324900Z"
    }
   },
   "id": "e395e32759087be9",
   "execution_count": 54
  },
  {
   "cell_type": "code",
   "outputs": [
    {
     "data": {
      "text/plain": "      Aargau  Appenzell-Ausserrhoden  Appenzell-Innerrhoden  Basel-Landschaft  \\\n0   358808.0                107992.0               136644.0          148142.0   \n1   151010.0                 25468.0                18087.0           45468.0   \n2    14844.0                  1941.0                  641.0            6098.0   \n3    13903.0                  2621.0                 2174.0            7821.0   \n4    17381.0                  1838.0                  870.0            7253.0   \n..       ...                     ...                    ...               ...   \n61     160.0                    18.0                    0.0              50.0   \n62     291.0                    16.0                    0.0              19.0   \n63      45.0                     6.0                    0.0              48.0   \n64     276.0                    10.0                    0.0              57.0   \n65      17.0                    34.0                    0.0               9.0   \n\n    Basel-Stadt       Bern  Fribourg    Genève    Glarus  Graubünden  ...  \\\n0      303631.0  2279621.0  259321.0  591729.0  118219.0   2951574.0  ...   \n1      202343.0   678385.0   36341.0  128181.0   16000.0   1530056.0  ...   \n2       79124.0   361096.0    5734.0  237165.0    1492.0    176337.0  ...   \n3      103871.0   168740.0    6227.0  234988.0     563.0     77430.0  ...   \n4       48297.0   138619.0   32220.0  246092.0     949.0     70584.0  ...   \n..          ...        ...       ...       ...       ...         ...  ...   \n61        461.0     1046.0     111.0    2627.0       0.0       457.0  ...   \n62        357.0      616.0      39.0    2007.0       0.0      1193.0  ...   \n63        493.0     1323.0      28.0    1000.0       8.0       316.0  ...   \n64        458.0      998.0      94.0    1808.0       9.0       822.0  ...   \n65        427.0      611.0      21.0    1351.0       0.0       741.0  ...   \n\n    St. Gallen   Thurgau     Ticino      Uri     Valais      Vaud       Zug  \\\n0     600990.0  253303.0  1396104.0  83245.0  2052731.0  989600.0  133315.0   \n1     238893.0   97024.0   407190.0  59131.0   584759.0  183595.0   45075.0   \n2      16596.0    3444.0    42574.0   7510.0   292871.0  160064.0   17557.0   \n3      17403.0    4011.0    48256.0  15410.0   101621.0  106204.0   10583.0   \n4      14015.0    5766.0    47495.0   4817.0   246214.0  344510.0    6078.0   \n..         ...       ...        ...      ...        ...       ...       ...   \n61       177.0      94.0      860.0      5.0      623.0    1479.0      42.0   \n62       205.0      31.0     1914.0    370.0     1268.0     661.0     140.0   \n63        84.0       9.0      814.0     23.0      870.0     216.0      68.0   \n64       543.0      43.0      327.0     35.0      467.0     961.0     147.0   \n65       566.0      43.0      220.0      0.0      772.0     455.0      77.0   \n\n       Zürich     Schweiz                  Herkunft  \n0   1196219.0  15765304.0                   Schweiz  \n1    773320.0   5816520.0               Deutschland  \n2    265827.0   1853557.0    Vereinigtes Königreich  \n3    368131.0   1506435.0  Vereinigte Staaten / USA  \n4    121300.0   1449278.0                Frankreich  \n..        ...         ...                       ...  \n61     2784.0     11737.0                     Chile  \n62     1834.0     11585.0                  Lettland  \n63     4935.0     11521.0                     Malta  \n64     2914.0     10966.0                    Island  \n65     2299.0      9622.0                    Zypern  \n\n[66 rows x 28 columns]",
      "text/html": "<div>\n<style scoped>\n    .dataframe tbody tr th:only-of-type {\n        vertical-align: middle;\n    }\n\n    .dataframe tbody tr th {\n        vertical-align: top;\n    }\n\n    .dataframe thead th {\n        text-align: right;\n    }\n</style>\n<table border=\"1\" class=\"dataframe\">\n  <thead>\n    <tr style=\"text-align: right;\">\n      <th></th>\n      <th>Aargau</th>\n      <th>Appenzell-Ausserrhoden</th>\n      <th>Appenzell-Innerrhoden</th>\n      <th>Basel-Landschaft</th>\n      <th>Basel-Stadt</th>\n      <th>Bern</th>\n      <th>Fribourg</th>\n      <th>Genève</th>\n      <th>Glarus</th>\n      <th>Graubünden</th>\n      <th>...</th>\n      <th>St. Gallen</th>\n      <th>Thurgau</th>\n      <th>Ticino</th>\n      <th>Uri</th>\n      <th>Valais</th>\n      <th>Vaud</th>\n      <th>Zug</th>\n      <th>Zürich</th>\n      <th>Schweiz</th>\n      <th>Herkunft</th>\n    </tr>\n  </thead>\n  <tbody>\n    <tr>\n      <th>0</th>\n      <td>358808.0</td>\n      <td>107992.0</td>\n      <td>136644.0</td>\n      <td>148142.0</td>\n      <td>303631.0</td>\n      <td>2279621.0</td>\n      <td>259321.0</td>\n      <td>591729.0</td>\n      <td>118219.0</td>\n      <td>2951574.0</td>\n      <td>...</td>\n      <td>600990.0</td>\n      <td>253303.0</td>\n      <td>1396104.0</td>\n      <td>83245.0</td>\n      <td>2052731.0</td>\n      <td>989600.0</td>\n      <td>133315.0</td>\n      <td>1196219.0</td>\n      <td>15765304.0</td>\n      <td>Schweiz</td>\n    </tr>\n    <tr>\n      <th>1</th>\n      <td>151010.0</td>\n      <td>25468.0</td>\n      <td>18087.0</td>\n      <td>45468.0</td>\n      <td>202343.0</td>\n      <td>678385.0</td>\n      <td>36341.0</td>\n      <td>128181.0</td>\n      <td>16000.0</td>\n      <td>1530056.0</td>\n      <td>...</td>\n      <td>238893.0</td>\n      <td>97024.0</td>\n      <td>407190.0</td>\n      <td>59131.0</td>\n      <td>584759.0</td>\n      <td>183595.0</td>\n      <td>45075.0</td>\n      <td>773320.0</td>\n      <td>5816520.0</td>\n      <td>Deutschland</td>\n    </tr>\n    <tr>\n      <th>2</th>\n      <td>14844.0</td>\n      <td>1941.0</td>\n      <td>641.0</td>\n      <td>6098.0</td>\n      <td>79124.0</td>\n      <td>361096.0</td>\n      <td>5734.0</td>\n      <td>237165.0</td>\n      <td>1492.0</td>\n      <td>176337.0</td>\n      <td>...</td>\n      <td>16596.0</td>\n      <td>3444.0</td>\n      <td>42574.0</td>\n      <td>7510.0</td>\n      <td>292871.0</td>\n      <td>160064.0</td>\n      <td>17557.0</td>\n      <td>265827.0</td>\n      <td>1853557.0</td>\n      <td>Vereinigtes Königreich</td>\n    </tr>\n    <tr>\n      <th>3</th>\n      <td>13903.0</td>\n      <td>2621.0</td>\n      <td>2174.0</td>\n      <td>7821.0</td>\n      <td>103871.0</td>\n      <td>168740.0</td>\n      <td>6227.0</td>\n      <td>234988.0</td>\n      <td>563.0</td>\n      <td>77430.0</td>\n      <td>...</td>\n      <td>17403.0</td>\n      <td>4011.0</td>\n      <td>48256.0</td>\n      <td>15410.0</td>\n      <td>101621.0</td>\n      <td>106204.0</td>\n      <td>10583.0</td>\n      <td>368131.0</td>\n      <td>1506435.0</td>\n      <td>Vereinigte Staaten / USA</td>\n    </tr>\n    <tr>\n      <th>4</th>\n      <td>17381.0</td>\n      <td>1838.0</td>\n      <td>870.0</td>\n      <td>7253.0</td>\n      <td>48297.0</td>\n      <td>138619.0</td>\n      <td>32220.0</td>\n      <td>246092.0</td>\n      <td>949.0</td>\n      <td>70584.0</td>\n      <td>...</td>\n      <td>14015.0</td>\n      <td>5766.0</td>\n      <td>47495.0</td>\n      <td>4817.0</td>\n      <td>246214.0</td>\n      <td>344510.0</td>\n      <td>6078.0</td>\n      <td>121300.0</td>\n      <td>1449278.0</td>\n      <td>Frankreich</td>\n    </tr>\n    <tr>\n      <th>...</th>\n      <td>...</td>\n      <td>...</td>\n      <td>...</td>\n      <td>...</td>\n      <td>...</td>\n      <td>...</td>\n      <td>...</td>\n      <td>...</td>\n      <td>...</td>\n      <td>...</td>\n      <td>...</td>\n      <td>...</td>\n      <td>...</td>\n      <td>...</td>\n      <td>...</td>\n      <td>...</td>\n      <td>...</td>\n      <td>...</td>\n      <td>...</td>\n      <td>...</td>\n      <td>...</td>\n    </tr>\n    <tr>\n      <th>61</th>\n      <td>160.0</td>\n      <td>18.0</td>\n      <td>0.0</td>\n      <td>50.0</td>\n      <td>461.0</td>\n      <td>1046.0</td>\n      <td>111.0</td>\n      <td>2627.0</td>\n      <td>0.0</td>\n      <td>457.0</td>\n      <td>...</td>\n      <td>177.0</td>\n      <td>94.0</td>\n      <td>860.0</td>\n      <td>5.0</td>\n      <td>623.0</td>\n      <td>1479.0</td>\n      <td>42.0</td>\n      <td>2784.0</td>\n      <td>11737.0</td>\n      <td>Chile</td>\n    </tr>\n    <tr>\n      <th>62</th>\n      <td>291.0</td>\n      <td>16.0</td>\n      <td>0.0</td>\n      <td>19.0</td>\n      <td>357.0</td>\n      <td>616.0</td>\n      <td>39.0</td>\n      <td>2007.0</td>\n      <td>0.0</td>\n      <td>1193.0</td>\n      <td>...</td>\n      <td>205.0</td>\n      <td>31.0</td>\n      <td>1914.0</td>\n      <td>370.0</td>\n      <td>1268.0</td>\n      <td>661.0</td>\n      <td>140.0</td>\n      <td>1834.0</td>\n      <td>11585.0</td>\n      <td>Lettland</td>\n    </tr>\n    <tr>\n      <th>63</th>\n      <td>45.0</td>\n      <td>6.0</td>\n      <td>0.0</td>\n      <td>48.0</td>\n      <td>493.0</td>\n      <td>1323.0</td>\n      <td>28.0</td>\n      <td>1000.0</td>\n      <td>8.0</td>\n      <td>316.0</td>\n      <td>...</td>\n      <td>84.0</td>\n      <td>9.0</td>\n      <td>814.0</td>\n      <td>23.0</td>\n      <td>870.0</td>\n      <td>216.0</td>\n      <td>68.0</td>\n      <td>4935.0</td>\n      <td>11521.0</td>\n      <td>Malta</td>\n    </tr>\n    <tr>\n      <th>64</th>\n      <td>276.0</td>\n      <td>10.0</td>\n      <td>0.0</td>\n      <td>57.0</td>\n      <td>458.0</td>\n      <td>998.0</td>\n      <td>94.0</td>\n      <td>1808.0</td>\n      <td>9.0</td>\n      <td>822.0</td>\n      <td>...</td>\n      <td>543.0</td>\n      <td>43.0</td>\n      <td>327.0</td>\n      <td>35.0</td>\n      <td>467.0</td>\n      <td>961.0</td>\n      <td>147.0</td>\n      <td>2914.0</td>\n      <td>10966.0</td>\n      <td>Island</td>\n    </tr>\n    <tr>\n      <th>65</th>\n      <td>17.0</td>\n      <td>34.0</td>\n      <td>0.0</td>\n      <td>9.0</td>\n      <td>427.0</td>\n      <td>611.0</td>\n      <td>21.0</td>\n      <td>1351.0</td>\n      <td>0.0</td>\n      <td>741.0</td>\n      <td>...</td>\n      <td>566.0</td>\n      <td>43.0</td>\n      <td>220.0</td>\n      <td>0.0</td>\n      <td>772.0</td>\n      <td>455.0</td>\n      <td>77.0</td>\n      <td>2299.0</td>\n      <td>9622.0</td>\n      <td>Zypern</td>\n    </tr>\n  </tbody>\n</table>\n<p>66 rows × 28 columns</p>\n</div>"
     },
     "execution_count": 55,
     "metadata": {},
     "output_type": "execute_result"
    }
   ],
   "source": [
    "truncateded_df = truncate_data(df)\n",
    "truncateded_df"
   ],
   "metadata": {
    "collapsed": false,
    "ExecuteTime": {
     "end_time": "2024-07-01T07:25:48.255841500Z",
     "start_time": "2024-07-01T07:25:48.111323600Z"
    }
   },
   "id": "b1ab10d477c322bd",
   "execution_count": 55
  },
  {
   "cell_type": "markdown",
   "id": "9e9ff215",
   "metadata": {},
   "source": [
    "### c) (4 Punkte)\n",
    "\n",
    "Nun möchtest du mit einer Pipeline die Daten aller Jahre in ein einziges Data Frame einlesen. Schreibe und prüfe dazu als erstes eine Funktion `read_year(file, year)`, die die Daten eines Jahres aus der Excel-Datei `file` korrekt einliest und als Data Frame zurückgibt."
   ]
  },
  {
   "cell_type": "code",
   "execution_count": 56,
   "id": "e0731520",
   "metadata": {
    "ExecuteTime": {
     "end_time": "2024-07-01T07:25:48.257835600Z",
     "start_time": "2024-07-01T07:25:48.147326500Z"
    }
   },
   "outputs": [],
   "source": [
    "def read_year(file, year):\n",
    "    df = pd.read_excel(\n",
    "    file, header=None, skiprows=8, nrows=90,  \n",
    "    usecols=\"B:CD\", sheet_name=f'{year}'\n",
    "    )\n",
    "    \n",
    "    df = df[df.columns[1::3]]\n",
    "    \n",
    "    kantone = pd.read_excel(\n",
    "        file, header=None, skiprows=2, nrows=1,  \n",
    "        usecols=\"B:CD\", sheet_name=f'{year}', na_values=False\n",
    "    )\n",
    "    kantone = kantone.dropna(axis=1)\n",
    "    \n",
    "    kantone = kantone.apply(lambda x: x.str.strip())\n",
    "    \n",
    "    df.columns = kantone.stack()\n",
    "    \n",
    "    \n",
    "    herkunft = pd.read_excel(\n",
    "        file, header=None, skiprows=8, nrows=90,  \n",
    "        usecols=\"A\", sheet_name=f'{year}', na_values=False\n",
    "    )\n",
    "    df['Herkunft'] = herkunft[0]\n",
    "    \n",
    "    df = truncate_data(df)\n",
    "    \n",
    "    return df"
   ]
  },
  {
   "cell_type": "code",
   "outputs": [
    {
     "data": {
      "text/plain": "      Aargau  Appenzell-Ausserrhoden  Appenzell-Innerrhoden  Basel-Landschaft  \\\n0   313087.0                128882.0               119944.0          109682.0   \n1   120999.0                 19569.0                15839.0           38706.0   \n2    14401.0                  1088.0                  741.0            5131.0   \n3    14563.0                  1284.0                 2194.0            4474.0   \n4    15488.0                  1009.0                  875.0            4607.0   \n..       ...                     ...                    ...               ...   \n56     459.0                    13.0                    0.0             145.0   \n57     201.0                     7.0                    0.0              16.0   \n58     384.0                    61.0                    0.0              32.0   \n59     129.0                     1.0                    0.0              33.0   \n60     302.0                    24.0                    0.0              17.0   \n\n    Basel-Stadt       Bern  Fribourg    Genève    Glarus  Graubünden  ...  \\\n0      213384.0  2189236.0  222394.0  405296.0  113089.0   2861073.0  ...   \n1      137631.0   700152.0   33661.0  110755.0   13025.0   1424974.0  ...   \n2       67145.0   480270.0    4871.0  256363.0    1224.0    190666.0  ...   \n3       73459.0   190172.0    8343.0  223166.0     971.0     81500.0  ...   \n4       27925.0   129687.0   25903.0  196975.0     854.0     68778.0  ...   \n..          ...        ...       ...       ...       ...         ...  ...   \n56        615.0     1948.0     182.0    2407.0      39.0      1957.0  ...   \n57        481.0     1024.0      90.0    2164.0       9.0      1207.0  ...   \n58        366.0      525.0      41.0    3432.0      36.0       156.0  ...   \n59         94.0      754.0      30.0    1265.0       4.0       542.0  ...   \n60        365.0      749.0      76.0    1963.0      34.0       388.0  ...   \n\n    St. Gallen   Thurgau     Ticino      Uri     Valais      Vaud       Zug  \\\n0     604958.0  240790.0  1383275.0  79876.0  1995703.0  872962.0  123064.0   \n1     223373.0   78054.0   483247.0  64862.0   671675.0  193683.0   42155.0   \n2      16588.0    3567.0    62354.0   5487.0   320207.0  185955.0   10364.0   \n3      18326.0    3124.0    58688.0  10749.0   108566.0  109292.0    8759.0   \n4      13442.0    4443.0    41438.0   5415.0   214804.0  303084.0    4952.0   \n..         ...       ...        ...      ...        ...       ...       ...   \n56       703.0     334.0     1282.0     31.0     1403.0    1177.0     196.0   \n57       266.0      72.0      555.0     57.0     1312.0     864.0      74.0   \n58       259.0      44.0      226.0     24.0      104.0    1399.0     137.0   \n59       118.0      16.0      451.0     26.0     2992.0     363.0      73.0   \n60       211.0       6.0      374.0      8.0      168.0    1287.0      52.0   \n\n       Zürich     Schweiz                  Herkunft  \n0   1029728.0  14622420.0                   Schweiz  \n1    639581.0   5563695.0               Deutschland  \n2    212566.0   2024567.0    Vereinigtes Königreich  \n3    344758.0   1494210.0  Vereinigte Staaten / USA  \n4     92825.0   1225619.0                Frankreich  \n..        ...         ...                       ...  \n56     3125.0     18938.0                 Slowenien  \n57     2218.0     11702.0                    Island  \n58     2068.0     10818.0               Philippinen  \n59     1653.0      9437.0   Belarus (Weissrussland)  \n60     2787.0      9320.0                     Chile  \n\n[61 rows x 28 columns]",
      "text/html": "<div>\n<style scoped>\n    .dataframe tbody tr th:only-of-type {\n        vertical-align: middle;\n    }\n\n    .dataframe tbody tr th {\n        vertical-align: top;\n    }\n\n    .dataframe thead th {\n        text-align: right;\n    }\n</style>\n<table border=\"1\" class=\"dataframe\">\n  <thead>\n    <tr style=\"text-align: right;\">\n      <th></th>\n      <th>Aargau</th>\n      <th>Appenzell-Ausserrhoden</th>\n      <th>Appenzell-Innerrhoden</th>\n      <th>Basel-Landschaft</th>\n      <th>Basel-Stadt</th>\n      <th>Bern</th>\n      <th>Fribourg</th>\n      <th>Genève</th>\n      <th>Glarus</th>\n      <th>Graubünden</th>\n      <th>...</th>\n      <th>St. Gallen</th>\n      <th>Thurgau</th>\n      <th>Ticino</th>\n      <th>Uri</th>\n      <th>Valais</th>\n      <th>Vaud</th>\n      <th>Zug</th>\n      <th>Zürich</th>\n      <th>Schweiz</th>\n      <th>Herkunft</th>\n    </tr>\n  </thead>\n  <tbody>\n    <tr>\n      <th>0</th>\n      <td>313087.0</td>\n      <td>128882.0</td>\n      <td>119944.0</td>\n      <td>109682.0</td>\n      <td>213384.0</td>\n      <td>2189236.0</td>\n      <td>222394.0</td>\n      <td>405296.0</td>\n      <td>113089.0</td>\n      <td>2861073.0</td>\n      <td>...</td>\n      <td>604958.0</td>\n      <td>240790.0</td>\n      <td>1383275.0</td>\n      <td>79876.0</td>\n      <td>1995703.0</td>\n      <td>872962.0</td>\n      <td>123064.0</td>\n      <td>1029728.0</td>\n      <td>14622420.0</td>\n      <td>Schweiz</td>\n    </tr>\n    <tr>\n      <th>1</th>\n      <td>120999.0</td>\n      <td>19569.0</td>\n      <td>15839.0</td>\n      <td>38706.0</td>\n      <td>137631.0</td>\n      <td>700152.0</td>\n      <td>33661.0</td>\n      <td>110755.0</td>\n      <td>13025.0</td>\n      <td>1424974.0</td>\n      <td>...</td>\n      <td>223373.0</td>\n      <td>78054.0</td>\n      <td>483247.0</td>\n      <td>64862.0</td>\n      <td>671675.0</td>\n      <td>193683.0</td>\n      <td>42155.0</td>\n      <td>639581.0</td>\n      <td>5563695.0</td>\n      <td>Deutschland</td>\n    </tr>\n    <tr>\n      <th>2</th>\n      <td>14401.0</td>\n      <td>1088.0</td>\n      <td>741.0</td>\n      <td>5131.0</td>\n      <td>67145.0</td>\n      <td>480270.0</td>\n      <td>4871.0</td>\n      <td>256363.0</td>\n      <td>1224.0</td>\n      <td>190666.0</td>\n      <td>...</td>\n      <td>16588.0</td>\n      <td>3567.0</td>\n      <td>62354.0</td>\n      <td>5487.0</td>\n      <td>320207.0</td>\n      <td>185955.0</td>\n      <td>10364.0</td>\n      <td>212566.0</td>\n      <td>2024567.0</td>\n      <td>Vereinigtes Königreich</td>\n    </tr>\n    <tr>\n      <th>3</th>\n      <td>14563.0</td>\n      <td>1284.0</td>\n      <td>2194.0</td>\n      <td>4474.0</td>\n      <td>73459.0</td>\n      <td>190172.0</td>\n      <td>8343.0</td>\n      <td>223166.0</td>\n      <td>971.0</td>\n      <td>81500.0</td>\n      <td>...</td>\n      <td>18326.0</td>\n      <td>3124.0</td>\n      <td>58688.0</td>\n      <td>10749.0</td>\n      <td>108566.0</td>\n      <td>109292.0</td>\n      <td>8759.0</td>\n      <td>344758.0</td>\n      <td>1494210.0</td>\n      <td>Vereinigte Staaten / USA</td>\n    </tr>\n    <tr>\n      <th>4</th>\n      <td>15488.0</td>\n      <td>1009.0</td>\n      <td>875.0</td>\n      <td>4607.0</td>\n      <td>27925.0</td>\n      <td>129687.0</td>\n      <td>25903.0</td>\n      <td>196975.0</td>\n      <td>854.0</td>\n      <td>68778.0</td>\n      <td>...</td>\n      <td>13442.0</td>\n      <td>4443.0</td>\n      <td>41438.0</td>\n      <td>5415.0</td>\n      <td>214804.0</td>\n      <td>303084.0</td>\n      <td>4952.0</td>\n      <td>92825.0</td>\n      <td>1225619.0</td>\n      <td>Frankreich</td>\n    </tr>\n    <tr>\n      <th>...</th>\n      <td>...</td>\n      <td>...</td>\n      <td>...</td>\n      <td>...</td>\n      <td>...</td>\n      <td>...</td>\n      <td>...</td>\n      <td>...</td>\n      <td>...</td>\n      <td>...</td>\n      <td>...</td>\n      <td>...</td>\n      <td>...</td>\n      <td>...</td>\n      <td>...</td>\n      <td>...</td>\n      <td>...</td>\n      <td>...</td>\n      <td>...</td>\n      <td>...</td>\n      <td>...</td>\n    </tr>\n    <tr>\n      <th>56</th>\n      <td>459.0</td>\n      <td>13.0</td>\n      <td>0.0</td>\n      <td>145.0</td>\n      <td>615.0</td>\n      <td>1948.0</td>\n      <td>182.0</td>\n      <td>2407.0</td>\n      <td>39.0</td>\n      <td>1957.0</td>\n      <td>...</td>\n      <td>703.0</td>\n      <td>334.0</td>\n      <td>1282.0</td>\n      <td>31.0</td>\n      <td>1403.0</td>\n      <td>1177.0</td>\n      <td>196.0</td>\n      <td>3125.0</td>\n      <td>18938.0</td>\n      <td>Slowenien</td>\n    </tr>\n    <tr>\n      <th>57</th>\n      <td>201.0</td>\n      <td>7.0</td>\n      <td>0.0</td>\n      <td>16.0</td>\n      <td>481.0</td>\n      <td>1024.0</td>\n      <td>90.0</td>\n      <td>2164.0</td>\n      <td>9.0</td>\n      <td>1207.0</td>\n      <td>...</td>\n      <td>266.0</td>\n      <td>72.0</td>\n      <td>555.0</td>\n      <td>57.0</td>\n      <td>1312.0</td>\n      <td>864.0</td>\n      <td>74.0</td>\n      <td>2218.0</td>\n      <td>11702.0</td>\n      <td>Island</td>\n    </tr>\n    <tr>\n      <th>58</th>\n      <td>384.0</td>\n      <td>61.0</td>\n      <td>0.0</td>\n      <td>32.0</td>\n      <td>366.0</td>\n      <td>525.0</td>\n      <td>41.0</td>\n      <td>3432.0</td>\n      <td>36.0</td>\n      <td>156.0</td>\n      <td>...</td>\n      <td>259.0</td>\n      <td>44.0</td>\n      <td>226.0</td>\n      <td>24.0</td>\n      <td>104.0</td>\n      <td>1399.0</td>\n      <td>137.0</td>\n      <td>2068.0</td>\n      <td>10818.0</td>\n      <td>Philippinen</td>\n    </tr>\n    <tr>\n      <th>59</th>\n      <td>129.0</td>\n      <td>1.0</td>\n      <td>0.0</td>\n      <td>33.0</td>\n      <td>94.0</td>\n      <td>754.0</td>\n      <td>30.0</td>\n      <td>1265.0</td>\n      <td>4.0</td>\n      <td>542.0</td>\n      <td>...</td>\n      <td>118.0</td>\n      <td>16.0</td>\n      <td>451.0</td>\n      <td>26.0</td>\n      <td>2992.0</td>\n      <td>363.0</td>\n      <td>73.0</td>\n      <td>1653.0</td>\n      <td>9437.0</td>\n      <td>Belarus (Weissrussland)</td>\n    </tr>\n    <tr>\n      <th>60</th>\n      <td>302.0</td>\n      <td>24.0</td>\n      <td>0.0</td>\n      <td>17.0</td>\n      <td>365.0</td>\n      <td>749.0</td>\n      <td>76.0</td>\n      <td>1963.0</td>\n      <td>34.0</td>\n      <td>388.0</td>\n      <td>...</td>\n      <td>211.0</td>\n      <td>6.0</td>\n      <td>374.0</td>\n      <td>8.0</td>\n      <td>168.0</td>\n      <td>1287.0</td>\n      <td>52.0</td>\n      <td>2787.0</td>\n      <td>9320.0</td>\n      <td>Chile</td>\n    </tr>\n  </tbody>\n</table>\n<p>61 rows × 28 columns</p>\n</div>"
     },
     "execution_count": 57,
     "metadata": {},
     "output_type": "execute_result"
    }
   ],
   "source": [
    "read_year('Hotellerie.xlsx', 2005)"
   ],
   "metadata": {
    "collapsed": false,
    "ExecuteTime": {
     "end_time": "2024-07-01T07:25:48.530546600Z",
     "start_time": "2024-07-01T07:25:48.159324600Z"
    }
   },
   "id": "168be2746f8c1c6a",
   "execution_count": 57
  },
  {
   "cell_type": "markdown",
   "id": "f7b303e0",
   "metadata": {},
   "source": [
    "### d) (4 Punkte)\n",
    "\n",
    "Schreibe nun eine weitere Funktion `read_data(file, year_min, year_max)`, die aus einer übergebenen Excel-Datei  (`file`) die Daten aller Jahre zwischen `year_min` und `year_max` einliest. Die Funktion soll alle Data Frames der einzelnen Jahre einlesen, jedem zusätzlich die Spalte `Jahr` hinzufügen und am Schluss die einzelnen Data Frames zu einem einzigen grossen zusammenhängen. Führe diese Funktion aus und lies damit die Statistik aller Jahre von 2005 bis und mit 2023 ein."
   ]
  },
  {
   "cell_type": "code",
   "execution_count": 58,
   "id": "937150a3",
   "metadata": {
    "ExecuteTime": {
     "end_time": "2024-07-01T07:25:48.546544400Z",
     "start_time": "2024-07-01T07:25:48.521540400Z"
    }
   },
   "outputs": [],
   "source": [
    "def read_data(file, year_min, year_max):\n",
    "    \n",
    "    dfs = []\n",
    "    for year in range(year_min, year_max+1):\n",
    "        df = pd.read_excel(\n",
    "        file, header=None, skiprows=8, \n",
    "        usecols=\"B:CD\", sheet_name=f'{year}'\n",
    "        )\n",
    "        \n",
    "        df = df[df.columns[1::3]]\n",
    "        \n",
    "        kantone = pd.read_excel(\n",
    "            file, header=None, skiprows=2, nrows=1,  \n",
    "            usecols=\"B:CD\", sheet_name=f'{year}', na_values=False\n",
    "        )\n",
    "        kantone = kantone.dropna(axis=1)\n",
    "        \n",
    "        kantone = kantone.apply(lambda x: x.str.strip())\n",
    "        \n",
    "        df.columns = kantone.stack()\n",
    "        \n",
    "        herkunft = pd.read_excel(\n",
    "            file, header=None, skiprows=8,  \n",
    "            usecols=\"A\", sheet_name=f'{year}', na_values=False\n",
    "        )\n",
    "        df['Herkunft'] = herkunft[0]\n",
    "        df = truncate_data(df)\n",
    "        df['Jahr'] = year\n",
    "        dfs.append(df)\n",
    "        \n",
    "    hotels = pd.concat(dfs, ignore_index=True)\n",
    "    return hotels"
   ]
  },
  {
   "cell_type": "code",
   "outputs": [
    {
     "data": {
      "text/plain": "        Aargau  Appenzell-Ausserrhoden  Appenzell-Innerrhoden  \\\n0     313087.0                128882.0               119944.0   \n1     120999.0                 19569.0                15839.0   \n2      14401.0                  1088.0                  741.0   \n3      14563.0                  1284.0                 2194.0   \n4      15488.0                  1009.0                  875.0   \n...        ...                     ...                    ...   \n1301     193.0                    30.0                    0.0   \n1302     140.0                     0.0                    0.0   \n1303      78.0                     0.0                    0.0   \n1304     153.0                     0.0                    0.0   \n1305      66.0                     0.0                    0.0   \n\n      Basel-Landschaft  Basel-Stadt       Bern  Fribourg    Genève    Glarus  \\\n0             109682.0     213384.0  2189236.0  222394.0  405296.0  113089.0   \n1              38706.0     137631.0   700152.0   33661.0  110755.0   13025.0   \n2               5131.0      67145.0   480270.0    4871.0  256363.0    1224.0   \n3               4474.0      73459.0   190172.0    8343.0  223166.0     971.0   \n4               4607.0      27925.0   129687.0   25903.0  196975.0     854.0   \n...                ...          ...        ...       ...       ...       ...   \n1301              40.0        980.0     1717.0      61.0    4459.0       0.0   \n1302              38.0        429.0     2094.0     118.0    3358.0      41.0   \n1303              16.0        471.0     2412.0       7.0    3879.0      14.0   \n1304              20.0        389.0     1136.0      47.0    1596.0       3.0   \n1305              97.0        203.0      992.0      23.0    1187.0       7.0   \n\n      Graubünden  ...   Thurgau     Ticino      Uri     Valais      Vaud  \\\n0      2861073.0  ...  240790.0  1383275.0  79876.0  1995703.0  872962.0   \n1      1424974.0  ...   78054.0   483247.0  64862.0   671675.0  193683.0   \n2       190666.0  ...    3567.0    62354.0   5487.0   320207.0  185955.0   \n3        81500.0  ...    3124.0    58688.0  10749.0   108566.0  109292.0   \n4        68778.0  ...    4443.0    41438.0   5415.0   214804.0  303084.0   \n...          ...  ...       ...        ...      ...        ...       ...   \n1301      1604.0  ...      20.0      893.0    175.0     1732.0    1427.0   \n1302       880.0  ...      26.0     1050.0    183.0      954.0     970.0   \n1303       443.0  ...       5.0      432.0    129.0      857.0     638.0   \n1304       539.0  ...      29.0      544.0    239.0     1486.0     644.0   \n1305       858.0  ...      93.0      423.0     13.0      706.0     799.0   \n\n           Zug     Zürich     Schweiz                  Herkunft  Jahr  \n0     123064.0  1029728.0  14622420.0                   Schweiz  2005  \n1      42155.0   639581.0   5563695.0               Deutschland  2005  \n2      10364.0   212566.0   2024567.0    Vereinigtes Königreich  2005  \n3       8759.0   344758.0   1494210.0  Vereinigte Staaten / USA  2005  \n4       4952.0    92825.0   1225619.0                Frankreich  2005  \n...        ...        ...         ...                       ...   ...  \n1301     119.0     6135.0     21497.0                    Zypern  2023  \n1302     160.0     4619.0     16721.0                     Malta  2023  \n1303      35.0     2317.0     13008.0                   Bahrain  2023  \n1304     162.0     3437.0     12379.0                    Island  2023  \n1305      28.0     1590.0      7937.0                   Belarus  2023  \n\n[1306 rows x 29 columns]",
      "text/html": "<div>\n<style scoped>\n    .dataframe tbody tr th:only-of-type {\n        vertical-align: middle;\n    }\n\n    .dataframe tbody tr th {\n        vertical-align: top;\n    }\n\n    .dataframe thead th {\n        text-align: right;\n    }\n</style>\n<table border=\"1\" class=\"dataframe\">\n  <thead>\n    <tr style=\"text-align: right;\">\n      <th></th>\n      <th>Aargau</th>\n      <th>Appenzell-Ausserrhoden</th>\n      <th>Appenzell-Innerrhoden</th>\n      <th>Basel-Landschaft</th>\n      <th>Basel-Stadt</th>\n      <th>Bern</th>\n      <th>Fribourg</th>\n      <th>Genève</th>\n      <th>Glarus</th>\n      <th>Graubünden</th>\n      <th>...</th>\n      <th>Thurgau</th>\n      <th>Ticino</th>\n      <th>Uri</th>\n      <th>Valais</th>\n      <th>Vaud</th>\n      <th>Zug</th>\n      <th>Zürich</th>\n      <th>Schweiz</th>\n      <th>Herkunft</th>\n      <th>Jahr</th>\n    </tr>\n  </thead>\n  <tbody>\n    <tr>\n      <th>0</th>\n      <td>313087.0</td>\n      <td>128882.0</td>\n      <td>119944.0</td>\n      <td>109682.0</td>\n      <td>213384.0</td>\n      <td>2189236.0</td>\n      <td>222394.0</td>\n      <td>405296.0</td>\n      <td>113089.0</td>\n      <td>2861073.0</td>\n      <td>...</td>\n      <td>240790.0</td>\n      <td>1383275.0</td>\n      <td>79876.0</td>\n      <td>1995703.0</td>\n      <td>872962.0</td>\n      <td>123064.0</td>\n      <td>1029728.0</td>\n      <td>14622420.0</td>\n      <td>Schweiz</td>\n      <td>2005</td>\n    </tr>\n    <tr>\n      <th>1</th>\n      <td>120999.0</td>\n      <td>19569.0</td>\n      <td>15839.0</td>\n      <td>38706.0</td>\n      <td>137631.0</td>\n      <td>700152.0</td>\n      <td>33661.0</td>\n      <td>110755.0</td>\n      <td>13025.0</td>\n      <td>1424974.0</td>\n      <td>...</td>\n      <td>78054.0</td>\n      <td>483247.0</td>\n      <td>64862.0</td>\n      <td>671675.0</td>\n      <td>193683.0</td>\n      <td>42155.0</td>\n      <td>639581.0</td>\n      <td>5563695.0</td>\n      <td>Deutschland</td>\n      <td>2005</td>\n    </tr>\n    <tr>\n      <th>2</th>\n      <td>14401.0</td>\n      <td>1088.0</td>\n      <td>741.0</td>\n      <td>5131.0</td>\n      <td>67145.0</td>\n      <td>480270.0</td>\n      <td>4871.0</td>\n      <td>256363.0</td>\n      <td>1224.0</td>\n      <td>190666.0</td>\n      <td>...</td>\n      <td>3567.0</td>\n      <td>62354.0</td>\n      <td>5487.0</td>\n      <td>320207.0</td>\n      <td>185955.0</td>\n      <td>10364.0</td>\n      <td>212566.0</td>\n      <td>2024567.0</td>\n      <td>Vereinigtes Königreich</td>\n      <td>2005</td>\n    </tr>\n    <tr>\n      <th>3</th>\n      <td>14563.0</td>\n      <td>1284.0</td>\n      <td>2194.0</td>\n      <td>4474.0</td>\n      <td>73459.0</td>\n      <td>190172.0</td>\n      <td>8343.0</td>\n      <td>223166.0</td>\n      <td>971.0</td>\n      <td>81500.0</td>\n      <td>...</td>\n      <td>3124.0</td>\n      <td>58688.0</td>\n      <td>10749.0</td>\n      <td>108566.0</td>\n      <td>109292.0</td>\n      <td>8759.0</td>\n      <td>344758.0</td>\n      <td>1494210.0</td>\n      <td>Vereinigte Staaten / USA</td>\n      <td>2005</td>\n    </tr>\n    <tr>\n      <th>4</th>\n      <td>15488.0</td>\n      <td>1009.0</td>\n      <td>875.0</td>\n      <td>4607.0</td>\n      <td>27925.0</td>\n      <td>129687.0</td>\n      <td>25903.0</td>\n      <td>196975.0</td>\n      <td>854.0</td>\n      <td>68778.0</td>\n      <td>...</td>\n      <td>4443.0</td>\n      <td>41438.0</td>\n      <td>5415.0</td>\n      <td>214804.0</td>\n      <td>303084.0</td>\n      <td>4952.0</td>\n      <td>92825.0</td>\n      <td>1225619.0</td>\n      <td>Frankreich</td>\n      <td>2005</td>\n    </tr>\n    <tr>\n      <th>...</th>\n      <td>...</td>\n      <td>...</td>\n      <td>...</td>\n      <td>...</td>\n      <td>...</td>\n      <td>...</td>\n      <td>...</td>\n      <td>...</td>\n      <td>...</td>\n      <td>...</td>\n      <td>...</td>\n      <td>...</td>\n      <td>...</td>\n      <td>...</td>\n      <td>...</td>\n      <td>...</td>\n      <td>...</td>\n      <td>...</td>\n      <td>...</td>\n      <td>...</td>\n      <td>...</td>\n    </tr>\n    <tr>\n      <th>1301</th>\n      <td>193.0</td>\n      <td>30.0</td>\n      <td>0.0</td>\n      <td>40.0</td>\n      <td>980.0</td>\n      <td>1717.0</td>\n      <td>61.0</td>\n      <td>4459.0</td>\n      <td>0.0</td>\n      <td>1604.0</td>\n      <td>...</td>\n      <td>20.0</td>\n      <td>893.0</td>\n      <td>175.0</td>\n      <td>1732.0</td>\n      <td>1427.0</td>\n      <td>119.0</td>\n      <td>6135.0</td>\n      <td>21497.0</td>\n      <td>Zypern</td>\n      <td>2023</td>\n    </tr>\n    <tr>\n      <th>1302</th>\n      <td>140.0</td>\n      <td>0.0</td>\n      <td>0.0</td>\n      <td>38.0</td>\n      <td>429.0</td>\n      <td>2094.0</td>\n      <td>118.0</td>\n      <td>3358.0</td>\n      <td>41.0</td>\n      <td>880.0</td>\n      <td>...</td>\n      <td>26.0</td>\n      <td>1050.0</td>\n      <td>183.0</td>\n      <td>954.0</td>\n      <td>970.0</td>\n      <td>160.0</td>\n      <td>4619.0</td>\n      <td>16721.0</td>\n      <td>Malta</td>\n      <td>2023</td>\n    </tr>\n    <tr>\n      <th>1303</th>\n      <td>78.0</td>\n      <td>0.0</td>\n      <td>0.0</td>\n      <td>16.0</td>\n      <td>471.0</td>\n      <td>2412.0</td>\n      <td>7.0</td>\n      <td>3879.0</td>\n      <td>14.0</td>\n      <td>443.0</td>\n      <td>...</td>\n      <td>5.0</td>\n      <td>432.0</td>\n      <td>129.0</td>\n      <td>857.0</td>\n      <td>638.0</td>\n      <td>35.0</td>\n      <td>2317.0</td>\n      <td>13008.0</td>\n      <td>Bahrain</td>\n      <td>2023</td>\n    </tr>\n    <tr>\n      <th>1304</th>\n      <td>153.0</td>\n      <td>0.0</td>\n      <td>0.0</td>\n      <td>20.0</td>\n      <td>389.0</td>\n      <td>1136.0</td>\n      <td>47.0</td>\n      <td>1596.0</td>\n      <td>3.0</td>\n      <td>539.0</td>\n      <td>...</td>\n      <td>29.0</td>\n      <td>544.0</td>\n      <td>239.0</td>\n      <td>1486.0</td>\n      <td>644.0</td>\n      <td>162.0</td>\n      <td>3437.0</td>\n      <td>12379.0</td>\n      <td>Island</td>\n      <td>2023</td>\n    </tr>\n    <tr>\n      <th>1305</th>\n      <td>66.0</td>\n      <td>0.0</td>\n      <td>0.0</td>\n      <td>97.0</td>\n      <td>203.0</td>\n      <td>992.0</td>\n      <td>23.0</td>\n      <td>1187.0</td>\n      <td>7.0</td>\n      <td>858.0</td>\n      <td>...</td>\n      <td>93.0</td>\n      <td>423.0</td>\n      <td>13.0</td>\n      <td>706.0</td>\n      <td>799.0</td>\n      <td>28.0</td>\n      <td>1590.0</td>\n      <td>7937.0</td>\n      <td>Belarus</td>\n      <td>2023</td>\n    </tr>\n  </tbody>\n</table>\n<p>1306 rows × 29 columns</p>\n</div>"
     },
     "execution_count": 59,
     "metadata": {},
     "output_type": "execute_result"
    }
   ],
   "source": [
    "hotels = read_data('Hotellerie.xlsx', 2005, 2023)\n",
    "hotels"
   ],
   "metadata": {
    "collapsed": false,
    "ExecuteTime": {
     "end_time": "2024-07-01T07:25:54.519668500Z",
     "start_time": "2024-07-01T07:25:48.531541400Z"
    }
   },
   "id": "912840ddbf0e03c1",
   "execution_count": 59
  },
  {
   "cell_type": "markdown",
   "id": "d96784a5",
   "metadata": {},
   "source": [
    "### e) (6 Punkte)\n",
    "\n",
    "Eine Arbeitskollegin fragt dich, wie die Herkunftsländer der Tourist:innen in Luzern 2023 anteilsmässig verteilt waren. Erstelle einen Barplot mit den absteigenden Top10 der anteilsmässig stärksten Herkunftsländer für den Kanton Luzern, um ihn deiner Kollegin zu zeigen.\n",
    "\n",
    "**Hinweis:** Am besten schränkst du dein grosses Data Frame als erstes einmal nur auf den Kanton Luzern ein.\n",
    "\n",
    "Bonusfrage (1 Punkt): Warum denkst du, ist der Anteil der chinesischen Tourist:innen in dieser Statistik so klein, obwohl gerade die Stadt Luzern sehr für Besuch chinesischer Herkunft bekannt ist? "
   ]
  },
  {
   "cell_type": "code",
   "execution_count": 60,
   "id": "c8a18dfb",
   "metadata": {
    "ExecuteTime": {
     "end_time": "2024-07-01T07:25:54.847470Z",
     "start_time": "2024-07-01T07:25:54.523669Z"
    }
   },
   "outputs": [],
   "source": [
    "aktuelleDaten = read_data('Hotellerie.xlsx', 2023, 2023)\n",
    "\n",
    "\n",
    "temp = aktuelleDaten[['Herkunft', 'Luzern']]\n",
    "temp = temp.sort_values('Luzern', ascending=False)[0:10]"
   ]
  },
  {
   "cell_type": "code",
   "outputs": [
    {
     "data": {
      "text/plain": "<Figure size 640x480 with 1 Axes>",
      "image/png": "[encoded data removed]"
     },
     "metadata": {},
     "output_type": "display_data"
    }
   ],
   "source": [
    "sns.barplot(temp, x='Herkunft', y='Luzern')\n",
    "plt.xticks(rotation=90)\n",
    "plt.show()"
   ],
   "metadata": {
    "collapsed": false,
    "ExecuteTime": {
     "end_time": "2024-07-01T07:25:55.076738400Z",
     "start_time": "2024-07-01T07:25:54.860811300Z"
    }
   },
   "id": "ced4197df5ddcd78",
   "execution_count": 61
  },
  {
   "cell_type": "markdown",
   "source": [
    "Ich nehme an, viele nicht in Luzern übernachten sondern nur besuchen."
   ],
   "metadata": {
    "collapsed": false
   },
   "id": "982738702154a9d4"
  },
  {
   "cell_type": "markdown",
   "id": "746bd864",
   "metadata": {},
   "source": [
    "## Aufgabe 2 (25 Punkte)"
   ]
  },
  {
   "cell_type": "markdown",
   "id": "85b0a998",
   "metadata": {},
   "source": [
    "Du arbeitest als Data Scientist neu bei einem Startup, das sich darauf spezialisieren möchte, die Erfolgsquote von Gebirgstouren mit Hilfe von Data Science und Machine Learning zu verbessern. Als Einarbeitungschallenge sollst du herausfinden, welches Wissen aus einem Datenset aus Himalaya-Expeditionen gezogen werden kann. Dieses Datenset ist hierarchisch organisiert: Auf der obersten Stufe sind die Gipfel (peaks). Zu jedem Peak wurde eine Reihe von Expeditionen gestartet, je nachdem mit oder ohne Erfolg. Jede Expedition besteht wiederum aus einer Reihe von Mitgliedern. Auf allen drei Hierarchiestufen wurden Daten gesammelt, zum Beispiel die Höhe des Gipfels (Stufe 1), die Jahreszeit einer Expedition zu einem Gipfel (Stufe 2) oder das Alter eines Expeditionsmitglieds (Stufe 3)."
   ]
  },
  {
   "cell_type": "markdown",
   "id": "ce850db2",
   "metadata": {},
   "source": [
    "### a) (7 Punkte)\n",
    "\n",
    "Die ersten zwei Hierarchiestufen (Gipfel und Expeditionen) liegen dir als JSON-Datei vor. Lies die beiliegende Datei `expedition_statistics.json` in ein Data Frame ein und mache sie flach, so dass jede Expedition mit entsprechenden Peak-Daten durch eine Zeile repräsentiert ist.\n",
    "\n",
    "**Hinweise**:\n",
    "* Benutze eine geeignete Kombination aus `explode()` / `json\\_normalize()` (Pandas) bzw. `unnest()` (tidyverse) um das Data Frame flach zu machen.\n",
    "* Dein resultierendes Data Frame sollte aus 10'441 Zeilen bestehen, Peaks ohne Expeditionen sollten explizit im Datenset drin bleiben."
   ]
  },
  {
   "cell_type": "code",
   "outputs": [
    {
     "data": {
      "text/plain": "      peak_id   peak_name peak_alternative_name  height_metres  \\\n0        AMAD  Ama Dablam          Amai Dablang           6814   \n1        AMAD  Ama Dablam          Amai Dablang           6814   \n2        AMAD  Ama Dablam          Amai Dablang           6814   \n3        AMAD  Ama Dablam          Amai Dablang           6814   \n4        AMAD  Ama Dablam          Amai Dablang           6814   \n...       ...         ...                   ...            ...   \n10436    JANE  Jannu East     Khumbhakarna East           7460   \n10437    JANE  Jannu East     Khumbhakarna East           7460   \n10438    JANE  Jannu East     Khumbhakarna East           7460   \n10439    JANE  Jannu East     Khumbhakarna East           7460   \n10440    YUBR       Yubra                  None           6264   \n\n      climbing_status  first_ascent_year  first_ascent_country  \\\n0             Climbed             1961.0  New Zealand, USA, UK   \n1             Climbed             1961.0  New Zealand, USA, UK   \n2             Climbed             1961.0  New Zealand, USA, UK   \n3             Climbed             1961.0  New Zealand, USA, UK   \n4             Climbed             1961.0  New Zealand, USA, UK   \n...               ...                ...                   ...   \n10436       Unclimbed                NaN                  None   \n10437       Unclimbed                NaN                  None   \n10438       Unclimbed                NaN                  None   \n10439       Unclimbed                NaN                  None   \n10440       Unclimbed                NaN                  None   \n\n      first_ascent_expedition_id expedition_id    year  ... highpoint_date  \\\n0                      AMAD61101     AMAD88101  1988.0  ...     1988-04-10   \n1                      AMAD61101     AMAD88102  1988.0  ...     1988-04-15   \n2                      AMAD61101     AMAD88401  1988.0  ...     1988-12-16   \n3                      AMAD61101     AMAD88402  1988.0  ...     1988-12-04   \n4                      AMAD61101     AMAD83301  1983.0  ...     1983-10-22   \n...                          ...           ...     ...  ...            ...   \n10436                       None     JANE96301  1996.0  ...           None   \n10437                       None     JANE98101  1998.0  ...     1998-04-08   \n10438                       None     JANE18301  2018.0  ...     2018-09-19   \n10439                       None     JANE19101  2019.0  ...     2019-03-28   \n10440                       None           NaN     NaN  ...            NaN   \n\n      termination_date                                 termination_reason  \\\n0                 None  Bad conditions (deep snow, avalanching, fallin...   \n1           1988-04-17  Bad conditions (deep snow, avalanching, fallin...   \n2                 None                                Success (main peak)   \n3           1988-12-10                                Success (main peak)   \n4                 None                                Success (main peak)   \n...                ...                                                ...   \n10436       1996-10-17                 Accident (death or serious injury)   \n10437       1998-05-07                   Bad weather (storms, high winds)   \n10438       2018-10-07  Bad conditions (deep snow, avalanching, fallin...   \n10439       2019-04-03  Route technically too difficult, lack of exper...   \n10440              NaN                                                NaN   \n\n      highpoint_metres members  member_deaths  hired_staff  \\\n0               5770.0     4.0            0.0          2.0   \n1               6520.0     6.0            1.0          0.0   \n2               6814.0     3.0            0.0          1.0   \n3               6814.0    16.0            0.0          9.0   \n4               6814.0    17.0            2.0          5.0   \n...                ...     ...            ...          ...   \n10436              NaN     3.0            2.0          0.0   \n10437           5080.0     8.0            0.0          0.0   \n10438           4550.0     2.0            0.0          0.0   \n10439           7412.0     3.0            0.0          0.0   \n10440              NaN     NaN            NaN          NaN   \n\n       hired_staff_deaths  oxygen_used            trekking_agency  \n0                     0.0        False            Mountain Travel  \n1                     0.0        False            Mountain Travel  \n2                     0.0        False                       None  \n3                     0.0        False                       None  \n4                     0.0        False                       None  \n...                   ...          ...                        ...  \n10436                 0.0        False      Wilderness Experience  \n10437                 0.0        False      Wilderness Experience  \n10438                 0.0        False        Expedition Himalaya  \n10439                 0.0        False  Dream Himalaya Adventures  \n10440                 NaN          NaN                        NaN  \n\n[10441 rows x 22 columns]",
      "text/html": "<div>\n<style scoped>\n    .dataframe tbody tr th:only-of-type {\n        vertical-align: middle;\n    }\n\n    .dataframe tbody tr th {\n        vertical-align: top;\n    }\n\n    .dataframe thead th {\n        text-align: right;\n    }\n</style>\n<table border=\"1\" class=\"dataframe\">\n  <thead>\n    <tr style=\"text-align: right;\">\n      <th></th>\n      <th>peak_id</th>\n      <th>peak_name</th>\n      <th>peak_alternative_name</th>\n      <th>height_metres</th>\n      <th>climbing_status</th>\n      <th>first_ascent_year</th>\n      <th>first_ascent_country</th>\n      <th>first_ascent_expedition_id</th>\n      <th>expedition_id</th>\n      <th>year</th>\n      <th>...</th>\n      <th>highpoint_date</th>\n      <th>termination_date</th>\n      <th>termination_reason</th>\n      <th>highpoint_metres</th>\n      <th>members</th>\n      <th>member_deaths</th>\n      <th>hired_staff</th>\n      <th>hired_staff_deaths</th>\n      <th>oxygen_used</th>\n      <th>trekking_agency</th>\n    </tr>\n  </thead>\n  <tbody>\n    <tr>\n      <th>0</th>\n      <td>AMAD</td>\n      <td>Ama Dablam</td>\n      <td>Amai Dablang</td>\n      <td>6814</td>\n      <td>Climbed</td>\n      <td>1961.0</td>\n      <td>New Zealand, USA, UK</td>\n      <td>AMAD61101</td>\n      <td>AMAD88101</td>\n      <td>1988.0</td>\n      <td>...</td>\n      <td>1988-04-10</td>\n      <td>None</td>\n      <td>Bad conditions (deep snow, avalanching, fallin...</td>\n      <td>5770.0</td>\n      <td>4.0</td>\n      <td>0.0</td>\n      <td>2.0</td>\n      <td>0.0</td>\n      <td>False</td>\n      <td>Mountain Travel</td>\n    </tr>\n    <tr>\n      <th>1</th>\n      <td>AMAD</td>\n      <td>Ama Dablam</td>\n      <td>Amai Dablang</td>\n      <td>6814</td>\n      <td>Climbed</td>\n      <td>1961.0</td>\n      <td>New Zealand, USA, UK</td>\n      <td>AMAD61101</td>\n      <td>AMAD88102</td>\n      <td>1988.0</td>\n      <td>...</td>\n      <td>1988-04-15</td>\n      <td>1988-04-17</td>\n      <td>Bad conditions (deep snow, avalanching, fallin...</td>\n      <td>6520.0</td>\n      <td>6.0</td>\n      <td>1.0</td>\n      <td>0.0</td>\n      <td>0.0</td>\n      <td>False</td>\n      <td>Mountain Travel</td>\n    </tr>\n    <tr>\n      <th>2</th>\n      <td>AMAD</td>\n      <td>Ama Dablam</td>\n      <td>Amai Dablang</td>\n      <td>6814</td>\n      <td>Climbed</td>\n      <td>1961.0</td>\n      <td>New Zealand, USA, UK</td>\n      <td>AMAD61101</td>\n      <td>AMAD88401</td>\n      <td>1988.0</td>\n      <td>...</td>\n      <td>1988-12-16</td>\n      <td>None</td>\n      <td>Success (main peak)</td>\n      <td>6814.0</td>\n      <td>3.0</td>\n      <td>0.0</td>\n      <td>1.0</td>\n      <td>0.0</td>\n      <td>False</td>\n      <td>None</td>\n    </tr>\n    <tr>\n      <th>3</th>\n      <td>AMAD</td>\n      <td>Ama Dablam</td>\n      <td>Amai Dablang</td>\n      <td>6814</td>\n      <td>Climbed</td>\n      <td>1961.0</td>\n      <td>New Zealand, USA, UK</td>\n      <td>AMAD61101</td>\n      <td>AMAD88402</td>\n      <td>1988.0</td>\n      <td>...</td>\n      <td>1988-12-04</td>\n      <td>1988-12-10</td>\n      <td>Success (main peak)</td>\n      <td>6814.0</td>\n      <td>16.0</td>\n      <td>0.0</td>\n      <td>9.0</td>\n      <td>0.0</td>\n      <td>False</td>\n      <td>None</td>\n    </tr>\n    <tr>\n      <th>4</th>\n      <td>AMAD</td>\n      <td>Ama Dablam</td>\n      <td>Amai Dablang</td>\n      <td>6814</td>\n      <td>Climbed</td>\n      <td>1961.0</td>\n      <td>New Zealand, USA, UK</td>\n      <td>AMAD61101</td>\n      <td>AMAD83301</td>\n      <td>1983.0</td>\n      <td>...</td>\n      <td>1983-10-22</td>\n      <td>None</td>\n      <td>Success (main peak)</td>\n      <td>6814.0</td>\n      <td>17.0</td>\n      <td>2.0</td>\n      <td>5.0</td>\n      <td>0.0</td>\n      <td>False</td>\n      <td>None</td>\n    </tr>\n    <tr>\n      <th>...</th>\n      <td>...</td>\n      <td>...</td>\n      <td>...</td>\n      <td>...</td>\n      <td>...</td>\n      <td>...</td>\n      <td>...</td>\n      <td>...</td>\n      <td>...</td>\n      <td>...</td>\n      <td>...</td>\n      <td>...</td>\n      <td>...</td>\n      <td>...</td>\n      <td>...</td>\n      <td>...</td>\n      <td>...</td>\n      <td>...</td>\n      <td>...</td>\n      <td>...</td>\n      <td>...</td>\n    </tr>\n    <tr>\n      <th>10436</th>\n      <td>JANE</td>\n      <td>Jannu East</td>\n      <td>Khumbhakarna East</td>\n      <td>7460</td>\n      <td>Unclimbed</td>\n      <td>NaN</td>\n      <td>None</td>\n      <td>None</td>\n      <td>JANE96301</td>\n      <td>1996.0</td>\n      <td>...</td>\n      <td>None</td>\n      <td>1996-10-17</td>\n      <td>Accident (death or serious injury)</td>\n      <td>NaN</td>\n      <td>3.0</td>\n      <td>2.0</td>\n      <td>0.0</td>\n      <td>0.0</td>\n      <td>False</td>\n      <td>Wilderness Experience</td>\n    </tr>\n    <tr>\n      <th>10437</th>\n      <td>JANE</td>\n      <td>Jannu East</td>\n      <td>Khumbhakarna East</td>\n      <td>7460</td>\n      <td>Unclimbed</td>\n      <td>NaN</td>\n      <td>None</td>\n      <td>None</td>\n      <td>JANE98101</td>\n      <td>1998.0</td>\n      <td>...</td>\n      <td>1998-04-08</td>\n      <td>1998-05-07</td>\n      <td>Bad weather (storms, high winds)</td>\n      <td>5080.0</td>\n      <td>8.0</td>\n      <td>0.0</td>\n      <td>0.0</td>\n      <td>0.0</td>\n      <td>False</td>\n      <td>Wilderness Experience</td>\n    </tr>\n    <tr>\n      <th>10438</th>\n      <td>JANE</td>\n      <td>Jannu East</td>\n      <td>Khumbhakarna East</td>\n      <td>7460</td>\n      <td>Unclimbed</td>\n      <td>NaN</td>\n      <td>None</td>\n      <td>None</td>\n      <td>JANE18301</td>\n      <td>2018.0</td>\n      <td>...</td>\n      <td>2018-09-19</td>\n      <td>2018-10-07</td>\n      <td>Bad conditions (deep snow, avalanching, fallin...</td>\n      <td>4550.0</td>\n      <td>2.0</td>\n      <td>0.0</td>\n      <td>0.0</td>\n      <td>0.0</td>\n      <td>False</td>\n      <td>Expedition Himalaya</td>\n    </tr>\n    <tr>\n      <th>10439</th>\n      <td>JANE</td>\n      <td>Jannu East</td>\n      <td>Khumbhakarna East</td>\n      <td>7460</td>\n      <td>Unclimbed</td>\n      <td>NaN</td>\n      <td>None</td>\n      <td>None</td>\n      <td>JANE19101</td>\n      <td>2019.0</td>\n      <td>...</td>\n      <td>2019-03-28</td>\n      <td>2019-04-03</td>\n      <td>Route technically too difficult, lack of exper...</td>\n      <td>7412.0</td>\n      <td>3.0</td>\n      <td>0.0</td>\n      <td>0.0</td>\n      <td>0.0</td>\n      <td>False</td>\n      <td>Dream Himalaya Adventures</td>\n    </tr>\n    <tr>\n      <th>10440</th>\n      <td>YUBR</td>\n      <td>Yubra</td>\n      <td>None</td>\n      <td>6264</td>\n      <td>Unclimbed</td>\n      <td>NaN</td>\n      <td>None</td>\n      <td>None</td>\n      <td>NaN</td>\n      <td>NaN</td>\n      <td>...</td>\n      <td>NaN</td>\n      <td>NaN</td>\n      <td>NaN</td>\n      <td>NaN</td>\n      <td>NaN</td>\n      <td>NaN</td>\n      <td>NaN</td>\n      <td>NaN</td>\n      <td>NaN</td>\n      <td>NaN</td>\n    </tr>\n  </tbody>\n</table>\n<p>10441 rows × 22 columns</p>\n</div>"
     },
     "execution_count": 62,
     "metadata": {},
     "output_type": "execute_result"
    }
   ],
   "source": [
    "df = pd.read_json('expedition_statistics.json')\n",
    "df_expeditions = df.explode('expeditions').reset_index()\n",
    "\n",
    "df_normalized = pd.json_normalize(df_expeditions['expeditions'])\n",
    "df_expeditions = df_expeditions.drop(columns=['expeditions', 'index'])\n",
    "\n",
    "df = pd.concat([df_expeditions, df_normalized], axis=1)\n",
    "\n",
    "df"
   ],
   "metadata": {
    "collapsed": false,
    "ExecuteTime": {
     "end_time": "2024-07-01T07:25:55.223968500Z",
     "start_time": "2024-07-01T07:25:55.068740600Z"
    }
   },
   "id": "bb4c0fe24b20e348",
   "execution_count": 62
  },
  {
   "cell_type": "markdown",
   "id": "560dc482",
   "metadata": {},
   "source": [
    "### b) (9 Punkte)\n",
    "\n",
    "Die Mitgliederdaten zu den einzelnen Expeditionen sind in `members.csv` zu finden. Lies die Datei ein und führe einen Join an die Expeditionsdaten aus, insbesondere mit den folgenden Schritten\n",
    "\n",
    "1. Prüfe, ob jede Expeditions-ID nur jeweils einer Peak-ID zugewiesen ist, d.h. ob es ausreicht, nur sie als Join-Kriterium zu verwenden.\n",
    "2. Entferne alle Variablen auf Peak- oder Expeditionslevel (`peak_id`, `year`, ..) aus den Mitgliederdaten, so dass durch den Join keine Duplikate von Spalten entstehen, die gleich sind, aber keine Join-Kriterien waren (Verwendung als Join-Kriterien wegen fehlender Werte schwierig).\n",
    "3. Benenne die Spalte '`oxygen_used`' auf Mitglieder-Level in '`member_oxygen_used`' um.\n",
    "4. Verwende einen Left-Join, um den Verlust von allfälligen Expeditionen ohne Mitgliederdaten zu vermeiden.\n",
    "5. Gib zum Schluss die Anzahl Zeilen des resultierenden Data Frames aus."
   ]
  },
  {
   "cell_type": "code",
   "execution_count": 63,
   "id": "8e0b398e",
   "metadata": {
    "ExecuteTime": {
     "end_time": "2024-07-01T07:25:55.438809900Z",
     "start_time": "2024-07-01T07:25:55.221970200Z"
    }
   },
   "outputs": [
    {
     "data": {
      "text/plain": "      expedition_id     member_id peak_id        peak_name  year  season sex  \\\n0         AMAD78301  AMAD78301-01    AMAD       Ama Dablam  1978  Autumn   M   \n1         AMAD78301  AMAD78301-02    AMAD       Ama Dablam  1978  Autumn   M   \n2         AMAD78301  AMAD78301-03    AMAD       Ama Dablam  1978  Autumn   M   \n3         AMAD78301  AMAD78301-04    AMAD       Ama Dablam  1978  Autumn   M   \n4         AMAD78301  AMAD78301-05    AMAD       Ama Dablam  1978  Autumn   M   \n...             ...           ...     ...              ...   ...     ...  ..   \n76514     PUTH19101  PUTH19101-07    PUTH  Putha Hiunchuli  2019  Spring   M   \n76515     RATC19101  RATC19101-01    RATC      Ratna Chuli  2019  Spring   M   \n76516     SANK19101  SANK19101-01    SANK     Sano Kailash  2019  Spring   M   \n76517     SANK19101  SANK19101-02    SANK     Sano Kailash  2019  Spring   F   \n76518     SANK19101  SANK19101-03    SANK     Sano Kailash  2019  Spring   M   \n\n        age citizenship expedition_role  ...  highpoint_metres  success  \\\n0      40.0      France          Leader  ...               NaN    False   \n1      41.0      France   Deputy Leader  ...            6000.0    False   \n2      27.0      France         Climber  ...               NaN    False   \n3      40.0      France      Exp Doctor  ...            6000.0    False   \n4      34.0      France         Climber  ...               NaN    False   \n...     ...         ...             ...  ...               ...      ...   \n76514  44.0       Nepal      H-A Worker  ...            6350.0    False   \n76515  55.0     Romania          Leader  ...            6600.0    False   \n76516  56.0     Austria          Leader  ...            6452.0     True   \n76517  57.0     Austria         Climber  ...            5700.0    False   \n76518  41.0       Nepal      H-A Worker  ...            6452.0     True   \n\n        solo  oxygen_used   died  death_cause death_height_metres  injured  \\\n0      False        False  False          NaN                 NaN    False   \n1      False        False  False          NaN                 NaN    False   \n2      False        False  False          NaN                 NaN    False   \n3      False        False  False          NaN                 NaN    False   \n4      False        False  False          NaN                 NaN    False   \n...      ...          ...    ...          ...                 ...      ...   \n76514  False        False  False          NaN                 NaN    False   \n76515  False        False  False          NaN                 NaN    False   \n76516  False        False  False          NaN                 NaN    False   \n76517  False        False  False          NaN                 NaN    False   \n76518  False        False  False          NaN                 NaN    False   \n\n       injury_type injury_height_metres  \n0              NaN                  NaN  \n1              NaN                  NaN  \n2              NaN                  NaN  \n3              NaN                  NaN  \n4              NaN                  NaN  \n...            ...                  ...  \n76514          NaN                  NaN  \n76515          NaN                  NaN  \n76516          NaN                  NaN  \n76517          NaN                  NaN  \n76518          NaN                  NaN  \n\n[76519 rows x 21 columns]",
      "text/html": "<div>\n<style scoped>\n    .dataframe tbody tr th:only-of-type {\n        vertical-align: middle;\n    }\n\n    .dataframe tbody tr th {\n        vertical-align: top;\n    }\n\n    .dataframe thead th {\n        text-align: right;\n    }\n</style>\n<table border=\"1\" class=\"dataframe\">\n  <thead>\n    <tr style=\"text-align: right;\">\n      <th></th>\n      <th>expedition_id</th>\n      <th>member_id</th>\n      <th>peak_id</th>\n      <th>peak_name</th>\n      <th>year</th>\n      <th>season</th>\n      <th>sex</th>\n      <th>age</th>\n      <th>citizenship</th>\n      <th>expedition_role</th>\n      <th>...</th>\n      <th>highpoint_metres</th>\n      <th>success</th>\n      <th>solo</th>\n      <th>oxygen_used</th>\n      <th>died</th>\n      <th>death_cause</th>\n      <th>death_height_metres</th>\n      <th>injured</th>\n      <th>injury_type</th>\n      <th>injury_height_metres</th>\n    </tr>\n  </thead>\n  <tbody>\n    <tr>\n      <th>0</th>\n      <td>AMAD78301</td>\n      <td>AMAD78301-01</td>\n      <td>AMAD</td>\n      <td>Ama Dablam</td>\n      <td>1978</td>\n      <td>Autumn</td>\n      <td>M</td>\n      <td>40.0</td>\n      <td>France</td>\n      <td>Leader</td>\n      <td>...</td>\n      <td>NaN</td>\n      <td>False</td>\n      <td>False</td>\n      <td>False</td>\n      <td>False</td>\n      <td>NaN</td>\n      <td>NaN</td>\n      <td>False</td>\n      <td>NaN</td>\n      <td>NaN</td>\n    </tr>\n    <tr>\n      <th>1</th>\n      <td>AMAD78301</td>\n      <td>AMAD78301-02</td>\n      <td>AMAD</td>\n      <td>Ama Dablam</td>\n      <td>1978</td>\n      <td>Autumn</td>\n      <td>M</td>\n      <td>41.0</td>\n      <td>France</td>\n      <td>Deputy Leader</td>\n      <td>...</td>\n      <td>6000.0</td>\n      <td>False</td>\n      <td>False</td>\n      <td>False</td>\n      <td>False</td>\n      <td>NaN</td>\n      <td>NaN</td>\n      <td>False</td>\n      <td>NaN</td>\n      <td>NaN</td>\n    </tr>\n    <tr>\n      <th>2</th>\n      <td>AMAD78301</td>\n      <td>AMAD78301-03</td>\n      <td>AMAD</td>\n      <td>Ama Dablam</td>\n      <td>1978</td>\n      <td>Autumn</td>\n      <td>M</td>\n      <td>27.0</td>\n      <td>France</td>\n      <td>Climber</td>\n      <td>...</td>\n      <td>NaN</td>\n      <td>False</td>\n      <td>False</td>\n      <td>False</td>\n      <td>False</td>\n      <td>NaN</td>\n      <td>NaN</td>\n      <td>False</td>\n      <td>NaN</td>\n      <td>NaN</td>\n    </tr>\n    <tr>\n      <th>3</th>\n      <td>AMAD78301</td>\n      <td>AMAD78301-04</td>\n      <td>AMAD</td>\n      <td>Ama Dablam</td>\n      <td>1978</td>\n      <td>Autumn</td>\n      <td>M</td>\n      <td>40.0</td>\n      <td>France</td>\n      <td>Exp Doctor</td>\n      <td>...</td>\n      <td>6000.0</td>\n      <td>False</td>\n      <td>False</td>\n      <td>False</td>\n      <td>False</td>\n      <td>NaN</td>\n      <td>NaN</td>\n      <td>False</td>\n      <td>NaN</td>\n      <td>NaN</td>\n    </tr>\n    <tr>\n      <th>4</th>\n      <td>AMAD78301</td>\n      <td>AMAD78301-05</td>\n      <td>AMAD</td>\n      <td>Ama Dablam</td>\n      <td>1978</td>\n      <td>Autumn</td>\n      <td>M</td>\n      <td>34.0</td>\n      <td>France</td>\n      <td>Climber</td>\n      <td>...</td>\n      <td>NaN</td>\n      <td>False</td>\n      <td>False</td>\n      <td>False</td>\n      <td>False</td>\n      <td>NaN</td>\n      <td>NaN</td>\n      <td>False</td>\n      <td>NaN</td>\n      <td>NaN</td>\n    </tr>\n    <tr>\n      <th>...</th>\n      <td>...</td>\n      <td>...</td>\n      <td>...</td>\n      <td>...</td>\n      <td>...</td>\n      <td>...</td>\n      <td>...</td>\n      <td>...</td>\n      <td>...</td>\n      <td>...</td>\n      <td>...</td>\n      <td>...</td>\n      <td>...</td>\n      <td>...</td>\n      <td>...</td>\n      <td>...</td>\n      <td>...</td>\n      <td>...</td>\n      <td>...</td>\n      <td>...</td>\n      <td>...</td>\n    </tr>\n    <tr>\n      <th>76514</th>\n      <td>PUTH19101</td>\n      <td>PUTH19101-07</td>\n      <td>PUTH</td>\n      <td>Putha Hiunchuli</td>\n      <td>2019</td>\n      <td>Spring</td>\n      <td>M</td>\n      <td>44.0</td>\n      <td>Nepal</td>\n      <td>H-A Worker</td>\n      <td>...</td>\n      <td>6350.0</td>\n      <td>False</td>\n      <td>False</td>\n      <td>False</td>\n      <td>False</td>\n      <td>NaN</td>\n      <td>NaN</td>\n      <td>False</td>\n      <td>NaN</td>\n      <td>NaN</td>\n    </tr>\n    <tr>\n      <th>76515</th>\n      <td>RATC19101</td>\n      <td>RATC19101-01</td>\n      <td>RATC</td>\n      <td>Ratna Chuli</td>\n      <td>2019</td>\n      <td>Spring</td>\n      <td>M</td>\n      <td>55.0</td>\n      <td>Romania</td>\n      <td>Leader</td>\n      <td>...</td>\n      <td>6600.0</td>\n      <td>False</td>\n      <td>False</td>\n      <td>False</td>\n      <td>False</td>\n      <td>NaN</td>\n      <td>NaN</td>\n      <td>False</td>\n      <td>NaN</td>\n      <td>NaN</td>\n    </tr>\n    <tr>\n      <th>76516</th>\n      <td>SANK19101</td>\n      <td>SANK19101-01</td>\n      <td>SANK</td>\n      <td>Sano Kailash</td>\n      <td>2019</td>\n      <td>Spring</td>\n      <td>M</td>\n      <td>56.0</td>\n      <td>Austria</td>\n      <td>Leader</td>\n      <td>...</td>\n      <td>6452.0</td>\n      <td>True</td>\n      <td>False</td>\n      <td>False</td>\n      <td>False</td>\n      <td>NaN</td>\n      <td>NaN</td>\n      <td>False</td>\n      <td>NaN</td>\n      <td>NaN</td>\n    </tr>\n    <tr>\n      <th>76517</th>\n      <td>SANK19101</td>\n      <td>SANK19101-02</td>\n      <td>SANK</td>\n      <td>Sano Kailash</td>\n      <td>2019</td>\n      <td>Spring</td>\n      <td>F</td>\n      <td>57.0</td>\n      <td>Austria</td>\n      <td>Climber</td>\n      <td>...</td>\n      <td>5700.0</td>\n      <td>False</td>\n      <td>False</td>\n      <td>False</td>\n      <td>False</td>\n      <td>NaN</td>\n      <td>NaN</td>\n      <td>False</td>\n      <td>NaN</td>\n      <td>NaN</td>\n    </tr>\n    <tr>\n      <th>76518</th>\n      <td>SANK19101</td>\n      <td>SANK19101-03</td>\n      <td>SANK</td>\n      <td>Sano Kailash</td>\n      <td>2019</td>\n      <td>Spring</td>\n      <td>M</td>\n      <td>41.0</td>\n      <td>Nepal</td>\n      <td>H-A Worker</td>\n      <td>...</td>\n      <td>6452.0</td>\n      <td>True</td>\n      <td>False</td>\n      <td>False</td>\n      <td>False</td>\n      <td>NaN</td>\n      <td>NaN</td>\n      <td>False</td>\n      <td>NaN</td>\n      <td>NaN</td>\n    </tr>\n  </tbody>\n</table>\n<p>76519 rows × 21 columns</p>\n</div>"
     },
     "execution_count": 63,
     "metadata": {},
     "output_type": "execute_result"
    }
   ],
   "source": [
    "members = pd.read_csv('members.csv')\n",
    "members"
   ]
  },
  {
   "cell_type": "code",
   "outputs": [
    {
     "data": {
      "text/plain": "Empty DataFrame\nColumns: [expedition_id, member_id, peak_id, peak_name, year, season, sex, age, citizenship, expedition_role, hired, highpoint_metres, success, solo, oxygen_used, died, death_cause, death_height_metres, injured, injury_type, injury_height_metres]\nIndex: []\n\n[0 rows x 21 columns]",
      "text/html": "<div>\n<style scoped>\n    .dataframe tbody tr th:only-of-type {\n        vertical-align: middle;\n    }\n\n    .dataframe tbody tr th {\n        vertical-align: top;\n    }\n\n    .dataframe thead th {\n        text-align: right;\n    }\n</style>\n<table border=\"1\" class=\"dataframe\">\n  <thead>\n    <tr style=\"text-align: right;\">\n      <th></th>\n      <th>expedition_id</th>\n      <th>member_id</th>\n      <th>peak_id</th>\n      <th>peak_name</th>\n      <th>year</th>\n      <th>season</th>\n      <th>sex</th>\n      <th>age</th>\n      <th>citizenship</th>\n      <th>expedition_role</th>\n      <th>...</th>\n      <th>highpoint_metres</th>\n      <th>success</th>\n      <th>solo</th>\n      <th>oxygen_used</th>\n      <th>died</th>\n      <th>death_cause</th>\n      <th>death_height_metres</th>\n      <th>injured</th>\n      <th>injury_type</th>\n      <th>injury_height_metres</th>\n    </tr>\n  </thead>\n  <tbody>\n  </tbody>\n</table>\n<p>0 rows × 21 columns</p>\n</div>"
     },
     "execution_count": 64,
     "metadata": {},
     "output_type": "execute_result"
    }
   ],
   "source": [
    "false_combinations = members[members['peak_id'].astype(str) != members['expedition_id'].astype(str).str[:4]]\n",
    "false_combinations"
   ],
   "metadata": {
    "collapsed": false,
    "ExecuteTime": {
     "end_time": "2024-07-01T07:25:55.491819300Z",
     "start_time": "2024-07-01T07:25:55.454815800Z"
    }
   },
   "id": "cd470abf5ad5304d",
   "execution_count": 64
  },
  {
   "cell_type": "code",
   "outputs": [],
   "source": [
    "members = members.drop(columns=['highpoint_metres', 'season', 'year', 'peak_name', 'peak_id'])"
   ],
   "metadata": {
    "collapsed": false,
    "ExecuteTime": {
     "end_time": "2024-07-01T07:25:55.562345100Z",
     "start_time": "2024-07-01T07:25:55.474820200Z"
    }
   },
   "id": "bde6566665429ac3",
   "execution_count": 65
  },
  {
   "cell_type": "code",
   "outputs": [
    {
     "data": {
      "text/plain": "      expedition_id     member_id sex   age citizenship expedition_role  \\\n0         AMAD78301  AMAD78301-01   M  40.0      France          Leader   \n1         AMAD78301  AMAD78301-02   M  41.0      France   Deputy Leader   \n2         AMAD78301  AMAD78301-03   M  27.0      France         Climber   \n3         AMAD78301  AMAD78301-04   M  40.0      France      Exp Doctor   \n4         AMAD78301  AMAD78301-05   M  34.0      France         Climber   \n...             ...           ...  ..   ...         ...             ...   \n76514     PUTH19101  PUTH19101-07   M  44.0       Nepal      H-A Worker   \n76515     RATC19101  RATC19101-01   M  55.0     Romania          Leader   \n76516     SANK19101  SANK19101-01   M  56.0     Austria          Leader   \n76517     SANK19101  SANK19101-02   F  57.0     Austria         Climber   \n76518     SANK19101  SANK19101-03   M  41.0       Nepal      H-A Worker   \n\n       hired  success   solo  member_oxygen_used   died death_cause  \\\n0      False    False  False               False  False         NaN   \n1      False    False  False               False  False         NaN   \n2      False    False  False               False  False         NaN   \n3      False    False  False               False  False         NaN   \n4      False    False  False               False  False         NaN   \n...      ...      ...    ...                 ...    ...         ...   \n76514   True    False  False               False  False         NaN   \n76515  False    False  False               False  False         NaN   \n76516  False     True  False               False  False         NaN   \n76517  False    False  False               False  False         NaN   \n76518   True     True  False               False  False         NaN   \n\n       death_height_metres  injured injury_type  injury_height_metres  \n0                      NaN    False         NaN                   NaN  \n1                      NaN    False         NaN                   NaN  \n2                      NaN    False         NaN                   NaN  \n3                      NaN    False         NaN                   NaN  \n4                      NaN    False         NaN                   NaN  \n...                    ...      ...         ...                   ...  \n76514                  NaN    False         NaN                   NaN  \n76515                  NaN    False         NaN                   NaN  \n76516                  NaN    False         NaN                   NaN  \n76517                  NaN    False         NaN                   NaN  \n76518                  NaN    False         NaN                   NaN  \n\n[76519 rows x 16 columns]",
      "text/html": "<div>\n<style scoped>\n    .dataframe tbody tr th:only-of-type {\n        vertical-align: middle;\n    }\n\n    .dataframe tbody tr th {\n        vertical-align: top;\n    }\n\n    .dataframe thead th {\n        text-align: right;\n    }\n</style>\n<table border=\"1\" class=\"dataframe\">\n  <thead>\n    <tr style=\"text-align: right;\">\n      <th></th>\n      <th>expedition_id</th>\n      <th>member_id</th>\n      <th>sex</th>\n      <th>age</th>\n      <th>citizenship</th>\n      <th>expedition_role</th>\n      <th>hired</th>\n      <th>success</th>\n      <th>solo</th>\n      <th>member_oxygen_used</th>\n      <th>died</th>\n      <th>death_cause</th>\n      <th>death_height_metres</th>\n      <th>injured</th>\n      <th>injury_type</th>\n      <th>injury_height_metres</th>\n    </tr>\n  </thead>\n  <tbody>\n    <tr>\n      <th>0</th>\n      <td>AMAD78301</td>\n      <td>AMAD78301-01</td>\n      <td>M</td>\n      <td>40.0</td>\n      <td>France</td>\n      <td>Leader</td>\n      <td>False</td>\n      <td>False</td>\n      <td>False</td>\n      <td>False</td>\n      <td>False</td>\n      <td>NaN</td>\n      <td>NaN</td>\n      <td>False</td>\n      <td>NaN</td>\n      <td>NaN</td>\n    </tr>\n    <tr>\n      <th>1</th>\n      <td>AMAD78301</td>\n      <td>AMAD78301-02</td>\n      <td>M</td>\n      <td>41.0</td>\n      <td>France</td>\n      <td>Deputy Leader</td>\n      <td>False</td>\n      <td>False</td>\n      <td>False</td>\n      <td>False</td>\n      <td>False</td>\n      <td>NaN</td>\n      <td>NaN</td>\n      <td>False</td>\n      <td>NaN</td>\n      <td>NaN</td>\n    </tr>\n    <tr>\n      <th>2</th>\n      <td>AMAD78301</td>\n      <td>AMAD78301-03</td>\n      <td>M</td>\n      <td>27.0</td>\n      <td>France</td>\n      <td>Climber</td>\n      <td>False</td>\n      <td>False</td>\n      <td>False</td>\n      <td>False</td>\n      <td>False</td>\n      <td>NaN</td>\n      <td>NaN</td>\n      <td>False</td>\n      <td>NaN</td>\n      <td>NaN</td>\n    </tr>\n    <tr>\n      <th>3</th>\n      <td>AMAD78301</td>\n      <td>AMAD78301-04</td>\n      <td>M</td>\n      <td>40.0</td>\n      <td>France</td>\n      <td>Exp Doctor</td>\n      <td>False</td>\n      <td>False</td>\n      <td>False</td>\n      <td>False</td>\n      <td>False</td>\n      <td>NaN</td>\n      <td>NaN</td>\n      <td>False</td>\n      <td>NaN</td>\n      <td>NaN</td>\n    </tr>\n    <tr>\n      <th>4</th>\n      <td>AMAD78301</td>\n      <td>AMAD78301-05</td>\n      <td>M</td>\n      <td>34.0</td>\n      <td>France</td>\n      <td>Climber</td>\n      <td>False</td>\n      <td>False</td>\n      <td>False</td>\n      <td>False</td>\n      <td>False</td>\n      <td>NaN</td>\n      <td>NaN</td>\n      <td>False</td>\n      <td>NaN</td>\n      <td>NaN</td>\n    </tr>\n    <tr>\n      <th>...</th>\n      <td>...</td>\n      <td>...</td>\n      <td>...</td>\n      <td>...</td>\n      <td>...</td>\n      <td>...</td>\n      <td>...</td>\n      <td>...</td>\n      <td>...</td>\n      <td>...</td>\n      <td>...</td>\n      <td>...</td>\n      <td>...</td>\n      <td>...</td>\n      <td>...</td>\n      <td>...</td>\n    </tr>\n    <tr>\n      <th>76514</th>\n      <td>PUTH19101</td>\n      <td>PUTH19101-07</td>\n      <td>M</td>\n      <td>44.0</td>\n      <td>Nepal</td>\n      <td>H-A Worker</td>\n      <td>True</td>\n      <td>False</td>\n      <td>False</td>\n      <td>False</td>\n      <td>False</td>\n      <td>NaN</td>\n      <td>NaN</td>\n      <td>False</td>\n      <td>NaN</td>\n      <td>NaN</td>\n    </tr>\n    <tr>\n      <th>76515</th>\n      <td>RATC19101</td>\n      <td>RATC19101-01</td>\n      <td>M</td>\n      <td>55.0</td>\n      <td>Romania</td>\n      <td>Leader</td>\n      <td>False</td>\n      <td>False</td>\n      <td>False</td>\n      <td>False</td>\n      <td>False</td>\n      <td>NaN</td>\n      <td>NaN</td>\n      <td>False</td>\n      <td>NaN</td>\n      <td>NaN</td>\n    </tr>\n    <tr>\n      <th>76516</th>\n      <td>SANK19101</td>\n      <td>SANK19101-01</td>\n      <td>M</td>\n      <td>56.0</td>\n      <td>Austria</td>\n      <td>Leader</td>\n      <td>False</td>\n      <td>True</td>\n      <td>False</td>\n      <td>False</td>\n      <td>False</td>\n      <td>NaN</td>\n      <td>NaN</td>\n      <td>False</td>\n      <td>NaN</td>\n      <td>NaN</td>\n    </tr>\n    <tr>\n      <th>76517</th>\n      <td>SANK19101</td>\n      <td>SANK19101-02</td>\n      <td>F</td>\n      <td>57.0</td>\n      <td>Austria</td>\n      <td>Climber</td>\n      <td>False</td>\n      <td>False</td>\n      <td>False</td>\n      <td>False</td>\n      <td>False</td>\n      <td>NaN</td>\n      <td>NaN</td>\n      <td>False</td>\n      <td>NaN</td>\n      <td>NaN</td>\n    </tr>\n    <tr>\n      <th>76518</th>\n      <td>SANK19101</td>\n      <td>SANK19101-03</td>\n      <td>M</td>\n      <td>41.0</td>\n      <td>Nepal</td>\n      <td>H-A Worker</td>\n      <td>True</td>\n      <td>True</td>\n      <td>False</td>\n      <td>False</td>\n      <td>False</td>\n      <td>NaN</td>\n      <td>NaN</td>\n      <td>False</td>\n      <td>NaN</td>\n      <td>NaN</td>\n    </tr>\n  </tbody>\n</table>\n<p>76519 rows × 16 columns</p>\n</div>"
     },
     "execution_count": 66,
     "metadata": {},
     "output_type": "execute_result"
    }
   ],
   "source": [
    "members = members.rename(columns={'oxygen_used':'member_oxygen_used'})\n",
    "members"
   ],
   "metadata": {
    "collapsed": false,
    "ExecuteTime": {
     "end_time": "2024-07-01T07:25:55.609870800Z",
     "start_time": "2024-07-01T07:25:55.485818600Z"
    }
   },
   "id": "996e877c7a37eb68",
   "execution_count": 66
  },
  {
   "cell_type": "code",
   "outputs": [],
   "source": [
    "df = df.set_index('expedition_id')\n",
    "members = members.set_index('expedition_id')"
   ],
   "metadata": {
    "collapsed": false,
    "ExecuteTime": {
     "end_time": "2024-07-01T07:25:55.668870200Z",
     "start_time": "2024-07-01T07:25:55.515333400Z"
    }
   },
   "id": "44c88679bdbdf125",
   "execution_count": 67
  },
  {
   "cell_type": "code",
   "outputs": [
    {
     "data": {
      "text/plain": "              peak_id   peak_name peak_alternative_name  height_metres  \\\nexpedition_id                                                            \nAMAD88101        AMAD  Ama Dablam          Amai Dablang           6814   \nAMAD88101        AMAD  Ama Dablam          Amai Dablang           6814   \nAMAD88101        AMAD  Ama Dablam          Amai Dablang           6814   \nAMAD88101        AMAD  Ama Dablam          Amai Dablang           6814   \nAMAD88102        AMAD  Ama Dablam          Amai Dablang           6814   \n...               ...         ...                   ...            ...   \nJANE18301        JANE  Jannu East     Khumbhakarna East           7460   \nJANE19101        JANE  Jannu East     Khumbhakarna East           7460   \nJANE19101        JANE  Jannu East     Khumbhakarna East           7460   \nJANE19101        JANE  Jannu East     Khumbhakarna East           7460   \nNaN              YUBR       Yubra                  None           6264   \n\n              climbing_status  first_ascent_year  first_ascent_country  \\\nexpedition_id                                                            \nAMAD88101             Climbed             1961.0  New Zealand, USA, UK   \nAMAD88101             Climbed             1961.0  New Zealand, USA, UK   \nAMAD88101             Climbed             1961.0  New Zealand, USA, UK   \nAMAD88101             Climbed             1961.0  New Zealand, USA, UK   \nAMAD88102             Climbed             1961.0  New Zealand, USA, UK   \n...                       ...                ...                   ...   \nJANE18301           Unclimbed                NaN                  None   \nJANE19101           Unclimbed                NaN                  None   \nJANE19101           Unclimbed                NaN                  None   \nJANE19101           Unclimbed                NaN                  None   \nNaN                 Unclimbed                NaN                  None   \n\n              first_ascent_expedition_id    year  season  ...  hired success  \\\nexpedition_id                                             ...                  \nAMAD88101                      AMAD61101  1988.0  Spring  ...  False   False   \nAMAD88101                      AMAD61101  1988.0  Spring  ...  False   False   \nAMAD88101                      AMAD61101  1988.0  Spring  ...  False   False   \nAMAD88101                      AMAD61101  1988.0  Spring  ...  False   False   \nAMAD88102                      AMAD61101  1988.0  Spring  ...  False   False   \n...                                  ...     ...     ...  ...    ...     ...   \nJANE18301                           None  2018.0  Autumn  ...  False   False   \nJANE19101                           None  2019.0  Spring  ...  False   False   \nJANE19101                           None  2019.0  Spring  ...  False   False   \nJANE19101                           None  2019.0  Spring  ...  False   False   \nNaN                                 None     NaN     NaN  ...    NaN     NaN   \n\n                solo member_oxygen_used   died  death_cause  \\\nexpedition_id                                                 \nAMAD88101      False              False  False          NaN   \nAMAD88101      False              False  False          NaN   \nAMAD88101      False              False  False          NaN   \nAMAD88101      False              False  False          NaN   \nAMAD88102      False              False  False          NaN   \n...              ...                ...    ...          ...   \nJANE18301      False              False  False          NaN   \nJANE19101      False              False  False          NaN   \nJANE19101      False              False  False          NaN   \nJANE19101      False              False  False          NaN   \nNaN              NaN                NaN    NaN          NaN   \n\n               death_height_metres  injured         injury_type  \\\nexpedition_id                                                     \nAMAD88101                      NaN    False                 NaN   \nAMAD88101                      NaN     True                 AMS   \nAMAD88101                      NaN     True  Falling rock / ice   \nAMAD88101                      NaN    False                 NaN   \nAMAD88102                      NaN    False                 NaN   \n...                            ...      ...                 ...   \nJANE18301                      NaN    False                 NaN   \nJANE19101                      NaN    False                 NaN   \nJANE19101                      NaN    False                 NaN   \nJANE19101                      NaN    False                 NaN   \nNaN                            NaN      NaN                 NaN   \n\n              injury_height_metres  \nexpedition_id                       \nAMAD88101                      NaN  \nAMAD88101                      NaN  \nAMAD88101                      NaN  \nAMAD88101                      NaN  \nAMAD88102                      NaN  \n...                            ...  \nJANE18301                      NaN  \nJANE19101                      NaN  \nJANE19101                      NaN  \nJANE19101                      NaN  \nNaN                            NaN  \n\n[76602 rows x 36 columns]",
      "text/html": "<div>\n<style scoped>\n    .dataframe tbody tr th:only-of-type {\n        vertical-align: middle;\n    }\n\n    .dataframe tbody tr th {\n        vertical-align: top;\n    }\n\n    .dataframe thead th {\n        text-align: right;\n    }\n</style>\n<table border=\"1\" class=\"dataframe\">\n  <thead>\n    <tr style=\"text-align: right;\">\n      <th></th>\n      <th>peak_id</th>\n      <th>peak_name</th>\n      <th>peak_alternative_name</th>\n      <th>height_metres</th>\n      <th>climbing_status</th>\n      <th>first_ascent_year</th>\n      <th>first_ascent_country</th>\n      <th>first_ascent_expedition_id</th>\n      <th>year</th>\n      <th>season</th>\n      <th>...</th>\n      <th>hired</th>\n      <th>success</th>\n      <th>solo</th>\n      <th>member_oxygen_used</th>\n      <th>died</th>\n      <th>death_cause</th>\n      <th>death_height_metres</th>\n      <th>injured</th>\n      <th>injury_type</th>\n      <th>injury_height_metres</th>\n    </tr>\n    <tr>\n      <th>expedition_id</th>\n      <th></th>\n      <th></th>\n      <th></th>\n      <th></th>\n      <th></th>\n      <th></th>\n      <th></th>\n      <th></th>\n      <th></th>\n      <th></th>\n      <th></th>\n      <th></th>\n      <th></th>\n      <th></th>\n      <th></th>\n      <th></th>\n      <th></th>\n      <th></th>\n      <th></th>\n      <th></th>\n      <th></th>\n    </tr>\n  </thead>\n  <tbody>\n    <tr>\n      <th>AMAD88101</th>\n      <td>AMAD</td>\n      <td>Ama Dablam</td>\n      <td>Amai Dablang</td>\n      <td>6814</td>\n      <td>Climbed</td>\n      <td>1961.0</td>\n      <td>New Zealand, USA, UK</td>\n      <td>AMAD61101</td>\n      <td>1988.0</td>\n      <td>Spring</td>\n      <td>...</td>\n      <td>False</td>\n      <td>False</td>\n      <td>False</td>\n      <td>False</td>\n      <td>False</td>\n      <td>NaN</td>\n      <td>NaN</td>\n      <td>False</td>\n      <td>NaN</td>\n      <td>NaN</td>\n    </tr>\n    <tr>\n      <th>AMAD88101</th>\n      <td>AMAD</td>\n      <td>Ama Dablam</td>\n      <td>Amai Dablang</td>\n      <td>6814</td>\n      <td>Climbed</td>\n      <td>1961.0</td>\n      <td>New Zealand, USA, UK</td>\n      <td>AMAD61101</td>\n      <td>1988.0</td>\n      <td>Spring</td>\n      <td>...</td>\n      <td>False</td>\n      <td>False</td>\n      <td>False</td>\n      <td>False</td>\n      <td>False</td>\n      <td>NaN</td>\n      <td>NaN</td>\n      <td>True</td>\n      <td>AMS</td>\n      <td>NaN</td>\n    </tr>\n    <tr>\n      <th>AMAD88101</th>\n      <td>AMAD</td>\n      <td>Ama Dablam</td>\n      <td>Amai Dablang</td>\n      <td>6814</td>\n      <td>Climbed</td>\n      <td>1961.0</td>\n      <td>New Zealand, USA, UK</td>\n      <td>AMAD61101</td>\n      <td>1988.0</td>\n      <td>Spring</td>\n      <td>...</td>\n      <td>False</td>\n      <td>False</td>\n      <td>False</td>\n      <td>False</td>\n      <td>False</td>\n      <td>NaN</td>\n      <td>NaN</td>\n      <td>True</td>\n      <td>Falling rock / ice</td>\n      <td>NaN</td>\n    </tr>\n    <tr>\n      <th>AMAD88101</th>\n      <td>AMAD</td>\n      <td>Ama Dablam</td>\n      <td>Amai Dablang</td>\n      <td>6814</td>\n      <td>Climbed</td>\n      <td>1961.0</td>\n      <td>New Zealand, USA, UK</td>\n      <td>AMAD61101</td>\n      <td>1988.0</td>\n      <td>Spring</td>\n      <td>...</td>\n      <td>False</td>\n      <td>False</td>\n      <td>False</td>\n      <td>False</td>\n      <td>False</td>\n      <td>NaN</td>\n      <td>NaN</td>\n      <td>False</td>\n      <td>NaN</td>\n      <td>NaN</td>\n    </tr>\n    <tr>\n      <th>AMAD88102</th>\n      <td>AMAD</td>\n      <td>Ama Dablam</td>\n      <td>Amai Dablang</td>\n      <td>6814</td>\n      <td>Climbed</td>\n      <td>1961.0</td>\n      <td>New Zealand, USA, UK</td>\n      <td>AMAD61101</td>\n      <td>1988.0</td>\n      <td>Spring</td>\n      <td>...</td>\n      <td>False</td>\n      <td>False</td>\n      <td>False</td>\n      <td>False</td>\n      <td>False</td>\n      <td>NaN</td>\n      <td>NaN</td>\n      <td>False</td>\n      <td>NaN</td>\n      <td>NaN</td>\n    </tr>\n    <tr>\n      <th>...</th>\n      <td>...</td>\n      <td>...</td>\n      <td>...</td>\n      <td>...</td>\n      <td>...</td>\n      <td>...</td>\n      <td>...</td>\n      <td>...</td>\n      <td>...</td>\n      <td>...</td>\n      <td>...</td>\n      <td>...</td>\n      <td>...</td>\n      <td>...</td>\n      <td>...</td>\n      <td>...</td>\n      <td>...</td>\n      <td>...</td>\n      <td>...</td>\n      <td>...</td>\n      <td>...</td>\n    </tr>\n    <tr>\n      <th>JANE18301</th>\n      <td>JANE</td>\n      <td>Jannu East</td>\n      <td>Khumbhakarna East</td>\n      <td>7460</td>\n      <td>Unclimbed</td>\n      <td>NaN</td>\n      <td>None</td>\n      <td>None</td>\n      <td>2018.0</td>\n      <td>Autumn</td>\n      <td>...</td>\n      <td>False</td>\n      <td>False</td>\n      <td>False</td>\n      <td>False</td>\n      <td>False</td>\n      <td>NaN</td>\n      <td>NaN</td>\n      <td>False</td>\n      <td>NaN</td>\n      <td>NaN</td>\n    </tr>\n    <tr>\n      <th>JANE19101</th>\n      <td>JANE</td>\n      <td>Jannu East</td>\n      <td>Khumbhakarna East</td>\n      <td>7460</td>\n      <td>Unclimbed</td>\n      <td>NaN</td>\n      <td>None</td>\n      <td>None</td>\n      <td>2019.0</td>\n      <td>Spring</td>\n      <td>...</td>\n      <td>False</td>\n      <td>False</td>\n      <td>False</td>\n      <td>False</td>\n      <td>False</td>\n      <td>NaN</td>\n      <td>NaN</td>\n      <td>False</td>\n      <td>NaN</td>\n      <td>NaN</td>\n    </tr>\n    <tr>\n      <th>JANE19101</th>\n      <td>JANE</td>\n      <td>Jannu East</td>\n      <td>Khumbhakarna East</td>\n      <td>7460</td>\n      <td>Unclimbed</td>\n      <td>NaN</td>\n      <td>None</td>\n      <td>None</td>\n      <td>2019.0</td>\n      <td>Spring</td>\n      <td>...</td>\n      <td>False</td>\n      <td>False</td>\n      <td>False</td>\n      <td>False</td>\n      <td>False</td>\n      <td>NaN</td>\n      <td>NaN</td>\n      <td>False</td>\n      <td>NaN</td>\n      <td>NaN</td>\n    </tr>\n    <tr>\n      <th>JANE19101</th>\n      <td>JANE</td>\n      <td>Jannu East</td>\n      <td>Khumbhakarna East</td>\n      <td>7460</td>\n      <td>Unclimbed</td>\n      <td>NaN</td>\n      <td>None</td>\n      <td>None</td>\n      <td>2019.0</td>\n      <td>Spring</td>\n      <td>...</td>\n      <td>False</td>\n      <td>False</td>\n      <td>False</td>\n      <td>False</td>\n      <td>False</td>\n      <td>NaN</td>\n      <td>NaN</td>\n      <td>False</td>\n      <td>NaN</td>\n      <td>NaN</td>\n    </tr>\n    <tr>\n      <th>NaN</th>\n      <td>YUBR</td>\n      <td>Yubra</td>\n      <td>None</td>\n      <td>6264</td>\n      <td>Unclimbed</td>\n      <td>NaN</td>\n      <td>None</td>\n      <td>None</td>\n      <td>NaN</td>\n      <td>NaN</td>\n      <td>...</td>\n      <td>NaN</td>\n      <td>NaN</td>\n      <td>NaN</td>\n      <td>NaN</td>\n      <td>NaN</td>\n      <td>NaN</td>\n      <td>NaN</td>\n      <td>NaN</td>\n      <td>NaN</td>\n      <td>NaN</td>\n    </tr>\n  </tbody>\n</table>\n<p>76602 rows × 36 columns</p>\n</div>"
     },
     "execution_count": 68,
     "metadata": {},
     "output_type": "execute_result"
    }
   ],
   "source": [
    "df = df.join(members, on='expedition_id', how='left')\n",
    "df"
   ],
   "metadata": {
    "collapsed": false,
    "ExecuteTime": {
     "end_time": "2024-07-01T07:26:03.424676800Z",
     "start_time": "2024-07-01T07:26:03.235149800Z"
    }
   },
   "id": "fc2d09055d0e4904",
   "execution_count": 68
  },
  {
   "cell_type": "code",
   "outputs": [
    {
     "name": "stdout",
     "output_type": "stream",
     "text": [
      "76602\n"
     ]
    }
   ],
   "source": [
    "print(df.shape[0])"
   ],
   "metadata": {
    "collapsed": false,
    "ExecuteTime": {
     "end_time": "2024-07-01T07:27:07.266403500Z",
     "start_time": "2024-07-01T07:27:07.238401100Z"
    }
   },
   "id": "a4dae13e7bc5cc93",
   "execution_count": 70
  },
  {
   "cell_type": "markdown",
   "id": "c70d8bc8",
   "metadata": {},
   "source": [
    "### c) (4 Punkte)\n",
    "\n",
    "Wie stark beeinflusst der Gebrauch von Sauerstoff (`member_oxygen_used`) den Erfolg (`success`) oder den Tod (`died`) eines Expeditionsmitglieds im Schnitt? Berechne die insgesamte Erfolgs- bzw. Todesrate mit und ohne Sauerstoff und vergleiche."
   ]
  },
  {
   "cell_type": "code",
   "execution_count": 71,
   "id": "16c8ff22",
   "metadata": {
    "ExecuteTime": {
     "end_time": "2024-07-01T07:29:13.399336300Z",
     "start_time": "2024-07-01T07:29:13.374328400Z"
    }
   },
   "outputs": [
    {
     "data": {
      "text/plain": "   member_oxygen_used  success   died      0\n0               False    False  False  42458\n1               False    False   True    762\n2               False     True  False  14919\n3               False     True   True    137\n4                True    False  False   3996\n5                True    False   True    106\n6                True     True  False  14032\n7                True     True   True    101",
      "text/html": "<div>\n<style scoped>\n    .dataframe tbody tr th:only-of-type {\n        vertical-align: middle;\n    }\n\n    .dataframe tbody tr th {\n        vertical-align: top;\n    }\n\n    .dataframe thead th {\n        text-align: right;\n    }\n</style>\n<table border=\"1\" class=\"dataframe\">\n  <thead>\n    <tr style=\"text-align: right;\">\n      <th></th>\n      <th>member_oxygen_used</th>\n      <th>success</th>\n      <th>died</th>\n      <th>0</th>\n    </tr>\n  </thead>\n  <tbody>\n    <tr>\n      <th>0</th>\n      <td>False</td>\n      <td>False</td>\n      <td>False</td>\n      <td>42458</td>\n    </tr>\n    <tr>\n      <th>1</th>\n      <td>False</td>\n      <td>False</td>\n      <td>True</td>\n      <td>762</td>\n    </tr>\n    <tr>\n      <th>2</th>\n      <td>False</td>\n      <td>True</td>\n      <td>False</td>\n      <td>14919</td>\n    </tr>\n    <tr>\n      <th>3</th>\n      <td>False</td>\n      <td>True</td>\n      <td>True</td>\n      <td>137</td>\n    </tr>\n    <tr>\n      <th>4</th>\n      <td>True</td>\n      <td>False</td>\n      <td>False</td>\n      <td>3996</td>\n    </tr>\n    <tr>\n      <th>5</th>\n      <td>True</td>\n      <td>False</td>\n      <td>True</td>\n      <td>106</td>\n    </tr>\n    <tr>\n      <th>6</th>\n      <td>True</td>\n      <td>True</td>\n      <td>False</td>\n      <td>14032</td>\n    </tr>\n    <tr>\n      <th>7</th>\n      <td>True</td>\n      <td>True</td>\n      <td>True</td>\n      <td>101</td>\n    </tr>\n  </tbody>\n</table>\n</div>"
     },
     "execution_count": 71,
     "metadata": {},
     "output_type": "execute_result"
    }
   ],
   "source": [
    "df.groupby(['member_oxygen_used', 'success', 'died']).size().reset_index()"
   ]
  },
  {
   "cell_type": "markdown",
   "id": "7a943824",
   "metadata": {},
   "source": [
    "### d) (5 Punkte)\n",
    "\n",
    "Du möchtest eine Statistik erstellen, wo du die durchschnittliche Erfolgsrate pro Gipfel angibst. Gehe dazu folgendermassen vor:\n",
    "\n",
    "1. Erzeuge eine Variable '`expedition_success_rate`' auf Expeditionslevel, die die Mitglieder-Erfolgsrate (`success`) pro Expedition angibt.\n",
    "2. Berechne für jeden Peak die durchschnittliche Expeditionserfolgsrate und visualisiere die resultierende Verteilung in einem Histogramm."
   ]
  },
  {
   "cell_type": "code",
   "execution_count": null,
   "id": "8d7184ba",
   "metadata": {},
   "outputs": [],
   "source": [
    "# DEIN CODE"
   ]
  }
 ],
 "metadata": {
  "kernelspec": {
   "display_name": "Python 3 (ipykernel)",
   "language": "python",
   "name": "python3"
  },
  "language_info": {
   "codemirror_mode": {
    "name": "ipython",
    "version": 3
   },
   "file_extension": ".py",
   "mimetype": "text/x-python",
   "name": "python",
   "nbconvert_exporter": "python",
   "pygments_lexer": "ipython3",
   "version": "3.10.13"
  }
 },
 "nbformat": 4,
 "nbformat_minor": 5
}
