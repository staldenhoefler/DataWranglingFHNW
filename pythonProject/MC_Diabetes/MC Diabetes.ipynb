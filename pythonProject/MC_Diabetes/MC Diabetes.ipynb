{
 "cells": [
  {
   "cell_type": "code",
   "execution_count": 8,
   "id": "initial_id",
   "metadata": {
    "collapsed": true,
    "ExecuteTime": {
     "end_time": "2024-02-22T16:00:51.658755Z",
     "start_time": "2024-02-22T16:00:51.633661700Z"
    }
   },
   "outputs": [],
   "source": [
    "import numpy as np\n",
    "import matplotlib.pyplot as plt\n",
    "import pandas as pd"
   ]
  },
  {
   "cell_type": "code",
   "outputs": [],
   "source": [
    "# Importing the dataset\n",
    "dataset = pd.read_excel('diabetes-1698240260.xlsx', sheet_name='data', header=2, usecols=\"A:I\")"
   ],
   "metadata": {
    "collapsed": false,
    "ExecuteTime": {
     "end_time": "2024-02-22T16:02:04.616710300Z",
     "start_time": "2024-02-22T16:02:04.531181400Z"
    }
   },
   "id": "336ba64cefa78069",
   "execution_count": 11
  },
  {
   "cell_type": "code",
   "outputs": [
    {
     "data": {
      "text/plain": "   n_pregnant  gtt  blood_pressure  triceps_skin_fold_thickness  insulin  \\\n0           1   85              66                           29        0   \n1           8  183              64                            0        0   \n2           1   89              66                           23       94   \n3           0  137              40                           35      168   \n4           5  116              74                            0        0   \n\n    bmi    dpf  age  class  \n0  26.6  0.351   31      0  \n1  23.3  0.672   32      1  \n2  28.1  0.167   21      0  \n3  43.1  2.288   33      1  \n4  25.6  0.201   30      0  ",
      "text/html": "<div>\n<style scoped>\n    .dataframe tbody tr th:only-of-type {\n        vertical-align: middle;\n    }\n\n    .dataframe tbody tr th {\n        vertical-align: top;\n    }\n\n    .dataframe thead th {\n        text-align: right;\n    }\n</style>\n<table border=\"1\" class=\"dataframe\">\n  <thead>\n    <tr style=\"text-align: right;\">\n      <th></th>\n      <th>n_pregnant</th>\n      <th>gtt</th>\n      <th>blood_pressure</th>\n      <th>triceps_skin_fold_thickness</th>\n      <th>insulin</th>\n      <th>bmi</th>\n      <th>dpf</th>\n      <th>age</th>\n      <th>class</th>\n    </tr>\n  </thead>\n  <tbody>\n    <tr>\n      <th>0</th>\n      <td>1</td>\n      <td>85</td>\n      <td>66</td>\n      <td>29</td>\n      <td>0</td>\n      <td>26.6</td>\n      <td>0.351</td>\n      <td>31</td>\n      <td>0</td>\n    </tr>\n    <tr>\n      <th>1</th>\n      <td>8</td>\n      <td>183</td>\n      <td>64</td>\n      <td>0</td>\n      <td>0</td>\n      <td>23.3</td>\n      <td>0.672</td>\n      <td>32</td>\n      <td>1</td>\n    </tr>\n    <tr>\n      <th>2</th>\n      <td>1</td>\n      <td>89</td>\n      <td>66</td>\n      <td>23</td>\n      <td>94</td>\n      <td>28.1</td>\n      <td>0.167</td>\n      <td>21</td>\n      <td>0</td>\n    </tr>\n    <tr>\n      <th>3</th>\n      <td>0</td>\n      <td>137</td>\n      <td>40</td>\n      <td>35</td>\n      <td>168</td>\n      <td>43.1</td>\n      <td>2.288</td>\n      <td>33</td>\n      <td>1</td>\n    </tr>\n    <tr>\n      <th>4</th>\n      <td>5</td>\n      <td>116</td>\n      <td>74</td>\n      <td>0</td>\n      <td>0</td>\n      <td>25.6</td>\n      <td>0.201</td>\n      <td>30</td>\n      <td>0</td>\n    </tr>\n  </tbody>\n</table>\n</div>"
     },
     "execution_count": 12,
     "metadata": {},
     "output_type": "execute_result"
    }
   ],
   "source": [
    "dataset.head()"
   ],
   "metadata": {
    "collapsed": false,
    "ExecuteTime": {
     "end_time": "2024-02-22T16:02:05.184962900Z",
     "start_time": "2024-02-22T16:02:05.146777900Z"
    }
   },
   "id": "5ddda8319153ca73",
   "execution_count": 12
  },
  {
   "cell_type": "code",
   "outputs": [
    {
     "data": {
      "text/plain": "       n_pregnant         gtt  blood_pressure  triceps_skin_fold_thickness  \\\ncount  767.000000  767.000000      767.000000                   767.000000   \nmean     3.842243  120.859192       69.101695                    20.517601   \nstd      3.370877   31.978468       19.368155                    15.954059   \nmin      0.000000    0.000000        0.000000                     0.000000   \n25%      1.000000   99.000000       62.000000                     0.000000   \n50%      3.000000  117.000000       72.000000                    23.000000   \n75%      6.000000  140.000000       80.000000                    32.000000   \nmax     17.000000  199.000000      122.000000                    99.000000   \n\n          insulin         bmi         dpf         age       class  \ncount  767.000000  767.000000  767.000000  767.000000  767.000000  \nmean    79.903520   31.990482    0.471674   33.219035    0.348110  \nstd    115.283105    7.889091    0.331497   11.752296    0.476682  \nmin      0.000000    0.000000    0.078000   21.000000    0.000000  \n25%      0.000000   27.300000    0.243500   24.000000    0.000000  \n50%     32.000000   32.000000    0.371000   29.000000    0.000000  \n75%    127.500000   36.600000    0.625000   41.000000    1.000000  \nmax    846.000000   67.100000    2.420000   81.000000    1.000000  ",
      "text/html": "<div>\n<style scoped>\n    .dataframe tbody tr th:only-of-type {\n        vertical-align: middle;\n    }\n\n    .dataframe tbody tr th {\n        vertical-align: top;\n    }\n\n    .dataframe thead th {\n        text-align: right;\n    }\n</style>\n<table border=\"1\" class=\"dataframe\">\n  <thead>\n    <tr style=\"text-align: right;\">\n      <th></th>\n      <th>n_pregnant</th>\n      <th>gtt</th>\n      <th>blood_pressure</th>\n      <th>triceps_skin_fold_thickness</th>\n      <th>insulin</th>\n      <th>bmi</th>\n      <th>dpf</th>\n      <th>age</th>\n      <th>class</th>\n    </tr>\n  </thead>\n  <tbody>\n    <tr>\n      <th>count</th>\n      <td>767.000000</td>\n      <td>767.000000</td>\n      <td>767.000000</td>\n      <td>767.000000</td>\n      <td>767.000000</td>\n      <td>767.000000</td>\n      <td>767.000000</td>\n      <td>767.000000</td>\n      <td>767.000000</td>\n    </tr>\n    <tr>\n      <th>mean</th>\n      <td>3.842243</td>\n      <td>120.859192</td>\n      <td>69.101695</td>\n      <td>20.517601</td>\n      <td>79.903520</td>\n      <td>31.990482</td>\n      <td>0.471674</td>\n      <td>33.219035</td>\n      <td>0.348110</td>\n    </tr>\n    <tr>\n      <th>std</th>\n      <td>3.370877</td>\n      <td>31.978468</td>\n      <td>19.368155</td>\n      <td>15.954059</td>\n      <td>115.283105</td>\n      <td>7.889091</td>\n      <td>0.331497</td>\n      <td>11.752296</td>\n      <td>0.476682</td>\n    </tr>\n    <tr>\n      <th>min</th>\n      <td>0.000000</td>\n      <td>0.000000</td>\n      <td>0.000000</td>\n      <td>0.000000</td>\n      <td>0.000000</td>\n      <td>0.000000</td>\n      <td>0.078000</td>\n      <td>21.000000</td>\n      <td>0.000000</td>\n    </tr>\n    <tr>\n      <th>25%</th>\n      <td>1.000000</td>\n      <td>99.000000</td>\n      <td>62.000000</td>\n      <td>0.000000</td>\n      <td>0.000000</td>\n      <td>27.300000</td>\n      <td>0.243500</td>\n      <td>24.000000</td>\n      <td>0.000000</td>\n    </tr>\n    <tr>\n      <th>50%</th>\n      <td>3.000000</td>\n      <td>117.000000</td>\n      <td>72.000000</td>\n      <td>23.000000</td>\n      <td>32.000000</td>\n      <td>32.000000</td>\n      <td>0.371000</td>\n      <td>29.000000</td>\n      <td>0.000000</td>\n    </tr>\n    <tr>\n      <th>75%</th>\n      <td>6.000000</td>\n      <td>140.000000</td>\n      <td>80.000000</td>\n      <td>32.000000</td>\n      <td>127.500000</td>\n      <td>36.600000</td>\n      <td>0.625000</td>\n      <td>41.000000</td>\n      <td>1.000000</td>\n    </tr>\n    <tr>\n      <th>max</th>\n      <td>17.000000</td>\n      <td>199.000000</td>\n      <td>122.000000</td>\n      <td>99.000000</td>\n      <td>846.000000</td>\n      <td>67.100000</td>\n      <td>2.420000</td>\n      <td>81.000000</td>\n      <td>1.000000</td>\n    </tr>\n  </tbody>\n</table>\n</div>"
     },
     "execution_count": 14,
     "metadata": {},
     "output_type": "execute_result"
    }
   ],
   "source": [
    "dataset.describe()"
   ],
   "metadata": {
    "collapsed": false,
    "ExecuteTime": {
     "end_time": "2024-02-22T16:02:35.015818800Z",
     "start_time": "2024-02-22T16:02:34.989298400Z"
    }
   },
   "id": "a8b6b26c0255601",
   "execution_count": 14
  }
 ],
 "metadata": {
  "kernelspec": {
   "display_name": "Python 3",
   "language": "python",
   "name": "python3"
  },
  "language_info": {
   "codemirror_mode": {
    "name": "ipython",
    "version": 2
   },
   "file_extension": ".py",
   "mimetype": "text/x-python",
   "name": "python",
   "nbconvert_exporter": "python",
   "pygments_lexer": "ipython2",
   "version": "2.7.6"
  }
 },
 "nbformat": 4,
 "nbformat_minor": 5
}
