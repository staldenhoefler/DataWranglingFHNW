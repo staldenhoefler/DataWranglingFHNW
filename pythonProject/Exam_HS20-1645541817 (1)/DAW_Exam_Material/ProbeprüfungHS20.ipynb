{
 "cells": [
  {
   "cell_type": "code",
   "execution_count": 1,
   "id": "initial_id",
   "metadata": {
    "collapsed": true,
    "ExecuteTime": {
     "end_time": "2024-05-23T13:23:42.584453800Z",
     "start_time": "2024-05-23T13:23:40.702049600Z"
    }
   },
   "outputs": [
    {
     "name": "stderr",
     "output_type": "stream",
     "text": [
      "C:\\Users\\denis\\AppData\\Local\\Temp\\ipykernel_34440\\2937650959.py:1: DeprecationWarning: \n",
      "Pyarrow will become a required dependency of pandas in the next major release of pandas (pandas 3.0),\n",
      "(to allow more performant data types, such as the Arrow string type, and better interoperability with other libraries)\n",
      "but was not found to be installed on your system.\n",
      "If this would cause problems for you,\n",
      "please provide us feedback at https://github.com/pandas-dev/pandas/issues/54466\n",
      "        \n",
      "  import pandas as pd\n"
     ]
    }
   ],
   "source": [
    "import pandas as pd\n",
    "import numpy as np"
   ]
  },
  {
   "cell_type": "code",
   "outputs": [
    {
     "data": {
      "text/plain": "     total_bill   tip smoker   day    time  size\n0         16.99  1.01     No   Sun  Dinner     2\n1         10.34  1.66     No   Sun  Dinner     3\n2         21.01  3.50     No   Sun  Dinner     3\n3         23.68  3.31     No   Sun  Dinner     2\n4         24.59  3.61     No   Sun  Dinner     4\n..          ...   ...    ...   ...     ...   ...\n239       29.03  5.92     No   Sat  Dinner     3\n240       27.18  2.00    Yes   Sat  Dinner     2\n241       22.67  2.00    Yes   Sat  Dinner     2\n242       17.82  1.75     No   Sat  Dinner     2\n243       18.78  3.00     No  Thur  Dinner     2\n\n[244 rows x 6 columns]",
      "text/html": "<div>\n<style scoped>\n    .dataframe tbody tr th:only-of-type {\n        vertical-align: middle;\n    }\n\n    .dataframe tbody tr th {\n        vertical-align: top;\n    }\n\n    .dataframe thead th {\n        text-align: right;\n    }\n</style>\n<table border=\"1\" class=\"dataframe\">\n  <thead>\n    <tr style=\"text-align: right;\">\n      <th></th>\n      <th>total_bill</th>\n      <th>tip</th>\n      <th>smoker</th>\n      <th>day</th>\n      <th>time</th>\n      <th>size</th>\n    </tr>\n  </thead>\n  <tbody>\n    <tr>\n      <th>0</th>\n      <td>16.99</td>\n      <td>1.01</td>\n      <td>No</td>\n      <td>Sun</td>\n      <td>Dinner</td>\n      <td>2</td>\n    </tr>\n    <tr>\n      <th>1</th>\n      <td>10.34</td>\n      <td>1.66</td>\n      <td>No</td>\n      <td>Sun</td>\n      <td>Dinner</td>\n      <td>3</td>\n    </tr>\n    <tr>\n      <th>2</th>\n      <td>21.01</td>\n      <td>3.50</td>\n      <td>No</td>\n      <td>Sun</td>\n      <td>Dinner</td>\n      <td>3</td>\n    </tr>\n    <tr>\n      <th>3</th>\n      <td>23.68</td>\n      <td>3.31</td>\n      <td>No</td>\n      <td>Sun</td>\n      <td>Dinner</td>\n      <td>2</td>\n    </tr>\n    <tr>\n      <th>4</th>\n      <td>24.59</td>\n      <td>3.61</td>\n      <td>No</td>\n      <td>Sun</td>\n      <td>Dinner</td>\n      <td>4</td>\n    </tr>\n    <tr>\n      <th>...</th>\n      <td>...</td>\n      <td>...</td>\n      <td>...</td>\n      <td>...</td>\n      <td>...</td>\n      <td>...</td>\n    </tr>\n    <tr>\n      <th>239</th>\n      <td>29.03</td>\n      <td>5.92</td>\n      <td>No</td>\n      <td>Sat</td>\n      <td>Dinner</td>\n      <td>3</td>\n    </tr>\n    <tr>\n      <th>240</th>\n      <td>27.18</td>\n      <td>2.00</td>\n      <td>Yes</td>\n      <td>Sat</td>\n      <td>Dinner</td>\n      <td>2</td>\n    </tr>\n    <tr>\n      <th>241</th>\n      <td>22.67</td>\n      <td>2.00</td>\n      <td>Yes</td>\n      <td>Sat</td>\n      <td>Dinner</td>\n      <td>2</td>\n    </tr>\n    <tr>\n      <th>242</th>\n      <td>17.82</td>\n      <td>1.75</td>\n      <td>No</td>\n      <td>Sat</td>\n      <td>Dinner</td>\n      <td>2</td>\n    </tr>\n    <tr>\n      <th>243</th>\n      <td>18.78</td>\n      <td>3.00</td>\n      <td>No</td>\n      <td>Thur</td>\n      <td>Dinner</td>\n      <td>2</td>\n    </tr>\n  </tbody>\n</table>\n<p>244 rows × 6 columns</p>\n</div>"
     },
     "execution_count": 2,
     "metadata": {},
     "output_type": "execute_result"
    }
   ],
   "source": [
    "tips = pd.read_csv('tips.csv')\n",
    "tips"
   ],
   "metadata": {
    "collapsed": false,
    "ExecuteTime": {
     "end_time": "2024-05-23T13:23:42.636993200Z",
     "start_time": "2024-05-23T13:23:42.586461400Z"
    }
   },
   "id": "63b6c6d045217898",
   "execution_count": 2
  },
  {
   "cell_type": "code",
   "outputs": [
    {
     "data": {
      "text/plain": "total_bill    float64\ntip           float64\nsmoker         object\nday            object\ntime           object\nsize            int64\ndtype: object"
     },
     "execution_count": 3,
     "metadata": {},
     "output_type": "execute_result"
    }
   ],
   "source": [
    "tips.dtypes"
   ],
   "metadata": {
    "collapsed": false,
    "ExecuteTime": {
     "end_time": "2024-05-23T13:23:42.658996Z",
     "start_time": "2024-05-23T13:23:42.633994200Z"
    }
   },
   "id": "aaf15556f116cbd9",
   "execution_count": 3
  },
  {
   "cell_type": "markdown",
   "source": [],
   "metadata": {
    "collapsed": false
   },
   "id": "4bef637b7df79ca5"
  },
  {
   "cell_type": "code",
   "outputs": [],
   "source": [
    "tips['day'] = tips['day'].astype(\"category\")\n",
    "tips['smoker'] = tips['smoker'].astype(\"category\")\n",
    "tips['time'] = tips['time'].astype(\"category\")\n",
    "\n",
    "tips['day'] = tips['day'].cat.set_categories([\"Thur\", \"Fri\", \"Sat\", \"Sun\"], ordered=True)\n",
    "tips['smoker'] = tips['smoker'].cat.set_categories([\"No\", \"Yes\"], ordered=True)\n",
    "tips['time'] = tips['time'].cat.set_categories([\"Lunch\", \"Dinner\"], ordered=True)"
   ],
   "metadata": {
    "collapsed": false,
    "ExecuteTime": {
     "end_time": "2024-05-23T13:23:42.688005200Z",
     "start_time": "2024-05-23T13:23:42.648994500Z"
    }
   },
   "id": "6d7d336082ed0602",
   "execution_count": 4
  },
  {
   "cell_type": "code",
   "outputs": [
    {
     "data": {
      "text/plain": "     total_bill   tip smoker   day    time  size\n0         16.99  1.01     No   Sun  Dinner     2\n1         10.34  1.66     No   Sun  Dinner     3\n2         21.01  3.50     No   Sun  Dinner     3\n3         23.68  3.31     No   Sun  Dinner     2\n4         24.59  3.61     No   Sun  Dinner     4\n..          ...   ...    ...   ...     ...   ...\n239       29.03  5.92     No   Sat  Dinner     3\n240       27.18  2.00    Yes   Sat  Dinner     2\n241       22.67  2.00    Yes   Sat  Dinner     2\n242       17.82  1.75     No   Sat  Dinner     2\n243       18.78  3.00     No  Thur  Dinner     2\n\n[244 rows x 6 columns]",
      "text/html": "<div>\n<style scoped>\n    .dataframe tbody tr th:only-of-type {\n        vertical-align: middle;\n    }\n\n    .dataframe tbody tr th {\n        vertical-align: top;\n    }\n\n    .dataframe thead th {\n        text-align: right;\n    }\n</style>\n<table border=\"1\" class=\"dataframe\">\n  <thead>\n    <tr style=\"text-align: right;\">\n      <th></th>\n      <th>total_bill</th>\n      <th>tip</th>\n      <th>smoker</th>\n      <th>day</th>\n      <th>time</th>\n      <th>size</th>\n    </tr>\n  </thead>\n  <tbody>\n    <tr>\n      <th>0</th>\n      <td>16.99</td>\n      <td>1.01</td>\n      <td>No</td>\n      <td>Sun</td>\n      <td>Dinner</td>\n      <td>2</td>\n    </tr>\n    <tr>\n      <th>1</th>\n      <td>10.34</td>\n      <td>1.66</td>\n      <td>No</td>\n      <td>Sun</td>\n      <td>Dinner</td>\n      <td>3</td>\n    </tr>\n    <tr>\n      <th>2</th>\n      <td>21.01</td>\n      <td>3.50</td>\n      <td>No</td>\n      <td>Sun</td>\n      <td>Dinner</td>\n      <td>3</td>\n    </tr>\n    <tr>\n      <th>3</th>\n      <td>23.68</td>\n      <td>3.31</td>\n      <td>No</td>\n      <td>Sun</td>\n      <td>Dinner</td>\n      <td>2</td>\n    </tr>\n    <tr>\n      <th>4</th>\n      <td>24.59</td>\n      <td>3.61</td>\n      <td>No</td>\n      <td>Sun</td>\n      <td>Dinner</td>\n      <td>4</td>\n    </tr>\n    <tr>\n      <th>...</th>\n      <td>...</td>\n      <td>...</td>\n      <td>...</td>\n      <td>...</td>\n      <td>...</td>\n      <td>...</td>\n    </tr>\n    <tr>\n      <th>239</th>\n      <td>29.03</td>\n      <td>5.92</td>\n      <td>No</td>\n      <td>Sat</td>\n      <td>Dinner</td>\n      <td>3</td>\n    </tr>\n    <tr>\n      <th>240</th>\n      <td>27.18</td>\n      <td>2.00</td>\n      <td>Yes</td>\n      <td>Sat</td>\n      <td>Dinner</td>\n      <td>2</td>\n    </tr>\n    <tr>\n      <th>241</th>\n      <td>22.67</td>\n      <td>2.00</td>\n      <td>Yes</td>\n      <td>Sat</td>\n      <td>Dinner</td>\n      <td>2</td>\n    </tr>\n    <tr>\n      <th>242</th>\n      <td>17.82</td>\n      <td>1.75</td>\n      <td>No</td>\n      <td>Sat</td>\n      <td>Dinner</td>\n      <td>2</td>\n    </tr>\n    <tr>\n      <th>243</th>\n      <td>18.78</td>\n      <td>3.00</td>\n      <td>No</td>\n      <td>Thur</td>\n      <td>Dinner</td>\n      <td>2</td>\n    </tr>\n  </tbody>\n</table>\n<p>244 rows × 6 columns</p>\n</div>"
     },
     "execution_count": 5,
     "metadata": {},
     "output_type": "execute_result"
    }
   ],
   "source": [
    "tips"
   ],
   "metadata": {
    "collapsed": false,
    "ExecuteTime": {
     "end_time": "2024-05-23T13:23:42.764783Z",
     "start_time": "2024-05-23T13:23:42.664995700Z"
    }
   },
   "id": "3dbd68d5ce21fd21",
   "execution_count": 5
  },
  {
   "cell_type": "code",
   "outputs": [
    {
     "data": {
      "text/plain": "True"
     },
     "execution_count": 6,
     "metadata": {},
     "output_type": "execute_result"
    }
   ],
   "source": [
    "tips['day'][10] < tips['day'][200]"
   ],
   "metadata": {
    "collapsed": false,
    "ExecuteTime": {
     "end_time": "2024-05-23T13:23:42.791799Z",
     "start_time": "2024-05-23T13:23:42.679993800Z"
    }
   },
   "id": "fa6517a4be3c1651",
   "execution_count": 6
  },
  {
   "cell_type": "code",
   "outputs": [
    {
     "name": "stdout",
     "output_type": "stream",
     "text": [
      "Sun\n",
      "Thur\n"
     ]
    }
   ],
   "source": [
    "print(tips['day'][10])\n",
    "print(tips['day'][200])"
   ],
   "metadata": {
    "collapsed": false,
    "ExecuteTime": {
     "end_time": "2024-05-23T13:23:42.793890500Z",
     "start_time": "2024-05-23T13:23:42.695025900Z"
    }
   },
   "id": "2c0c77bf9664672e",
   "execution_count": 7
  },
  {
   "cell_type": "code",
   "outputs": [
    {
     "data": {
      "text/plain": "     total_bill   tip smoker   day    time  size  procentual_tip\n0         16.99  1.01     No   Sun  Dinner     2        5.611111\n1         10.34  1.66     No   Sun  Dinner     3       13.833333\n2         21.01  3.50     No   Sun  Dinner     3       14.279886\n3         23.68  3.31     No   Sun  Dinner     2       12.263801\n4         24.59  3.61     No   Sun  Dinner     4       12.801418\n..          ...   ...    ...   ...     ...   ...             ...\n239       29.03  5.92     No   Sat  Dinner     3       16.938484\n240       27.18  2.00    Yes   Sat  Dinner     2        6.854010\n241       22.67  2.00    Yes   Sat  Dinner     2        8.107013\n242       17.82  1.75     No   Sat  Dinner     2        8.942259\n243       18.78  3.00     No  Thur  Dinner     2       13.774105\n\n[244 rows x 7 columns]",
      "text/html": "<div>\n<style scoped>\n    .dataframe tbody tr th:only-of-type {\n        vertical-align: middle;\n    }\n\n    .dataframe tbody tr th {\n        vertical-align: top;\n    }\n\n    .dataframe thead th {\n        text-align: right;\n    }\n</style>\n<table border=\"1\" class=\"dataframe\">\n  <thead>\n    <tr style=\"text-align: right;\">\n      <th></th>\n      <th>total_bill</th>\n      <th>tip</th>\n      <th>smoker</th>\n      <th>day</th>\n      <th>time</th>\n      <th>size</th>\n      <th>procentual_tip</th>\n    </tr>\n  </thead>\n  <tbody>\n    <tr>\n      <th>0</th>\n      <td>16.99</td>\n      <td>1.01</td>\n      <td>No</td>\n      <td>Sun</td>\n      <td>Dinner</td>\n      <td>2</td>\n      <td>5.611111</td>\n    </tr>\n    <tr>\n      <th>1</th>\n      <td>10.34</td>\n      <td>1.66</td>\n      <td>No</td>\n      <td>Sun</td>\n      <td>Dinner</td>\n      <td>3</td>\n      <td>13.833333</td>\n    </tr>\n    <tr>\n      <th>2</th>\n      <td>21.01</td>\n      <td>3.50</td>\n      <td>No</td>\n      <td>Sun</td>\n      <td>Dinner</td>\n      <td>3</td>\n      <td>14.279886</td>\n    </tr>\n    <tr>\n      <th>3</th>\n      <td>23.68</td>\n      <td>3.31</td>\n      <td>No</td>\n      <td>Sun</td>\n      <td>Dinner</td>\n      <td>2</td>\n      <td>12.263801</td>\n    </tr>\n    <tr>\n      <th>4</th>\n      <td>24.59</td>\n      <td>3.61</td>\n      <td>No</td>\n      <td>Sun</td>\n      <td>Dinner</td>\n      <td>4</td>\n      <td>12.801418</td>\n    </tr>\n    <tr>\n      <th>...</th>\n      <td>...</td>\n      <td>...</td>\n      <td>...</td>\n      <td>...</td>\n      <td>...</td>\n      <td>...</td>\n      <td>...</td>\n    </tr>\n    <tr>\n      <th>239</th>\n      <td>29.03</td>\n      <td>5.92</td>\n      <td>No</td>\n      <td>Sat</td>\n      <td>Dinner</td>\n      <td>3</td>\n      <td>16.938484</td>\n    </tr>\n    <tr>\n      <th>240</th>\n      <td>27.18</td>\n      <td>2.00</td>\n      <td>Yes</td>\n      <td>Sat</td>\n      <td>Dinner</td>\n      <td>2</td>\n      <td>6.854010</td>\n    </tr>\n    <tr>\n      <th>241</th>\n      <td>22.67</td>\n      <td>2.00</td>\n      <td>Yes</td>\n      <td>Sat</td>\n      <td>Dinner</td>\n      <td>2</td>\n      <td>8.107013</td>\n    </tr>\n    <tr>\n      <th>242</th>\n      <td>17.82</td>\n      <td>1.75</td>\n      <td>No</td>\n      <td>Sat</td>\n      <td>Dinner</td>\n      <td>2</td>\n      <td>8.942259</td>\n    </tr>\n    <tr>\n      <th>243</th>\n      <td>18.78</td>\n      <td>3.00</td>\n      <td>No</td>\n      <td>Thur</td>\n      <td>Dinner</td>\n      <td>2</td>\n      <td>13.774105</td>\n    </tr>\n  </tbody>\n</table>\n<p>244 rows × 7 columns</p>\n</div>"
     },
     "execution_count": 8,
     "metadata": {},
     "output_type": "execute_result"
    }
   ],
   "source": [
    "tips['procentual_tip'] = tips['tip']/(tips['total_bill']+tips['tip'])*100\n",
    "tips"
   ],
   "metadata": {
    "collapsed": false,
    "ExecuteTime": {
     "end_time": "2024-05-23T13:23:42.800309100Z",
     "start_time": "2024-05-23T13:23:42.719522300Z"
    }
   },
   "id": "66c37abde5b9e243",
   "execution_count": 8
  },
  {
   "cell_type": "code",
   "outputs": [
    {
     "name": "stderr",
     "output_type": "stream",
     "text": [
      "C:\\Users\\denis\\AppData\\Local\\Temp\\ipykernel_34440\\3367772880.py:1: FutureWarning: The default of observed=False is deprecated and will be changed to True in a future version of pandas. Pass observed=False to retain current behavior or observed=True to adopt the future default and silence this warning.\n",
      "  tips[['day', 'procentual_tip']].groupby(by=\"day\").mean()\n"
     ]
    },
    {
     "data": {
      "text/plain": "      procentual_tip\nday                 \nThur       13.794255\nFri        14.391523\nSat        13.113303\nSun        13.939626",
      "text/html": "<div>\n<style scoped>\n    .dataframe tbody tr th:only-of-type {\n        vertical-align: middle;\n    }\n\n    .dataframe tbody tr th {\n        vertical-align: top;\n    }\n\n    .dataframe thead th {\n        text-align: right;\n    }\n</style>\n<table border=\"1\" class=\"dataframe\">\n  <thead>\n    <tr style=\"text-align: right;\">\n      <th></th>\n      <th>procentual_tip</th>\n    </tr>\n    <tr>\n      <th>day</th>\n      <th></th>\n    </tr>\n  </thead>\n  <tbody>\n    <tr>\n      <th>Thur</th>\n      <td>13.794255</td>\n    </tr>\n    <tr>\n      <th>Fri</th>\n      <td>14.391523</td>\n    </tr>\n    <tr>\n      <th>Sat</th>\n      <td>13.113303</td>\n    </tr>\n    <tr>\n      <th>Sun</th>\n      <td>13.939626</td>\n    </tr>\n  </tbody>\n</table>\n</div>"
     },
     "execution_count": 9,
     "metadata": {},
     "output_type": "execute_result"
    }
   ],
   "source": [
    "tips[['day', 'procentual_tip']].groupby(by=\"day\").mean()"
   ],
   "metadata": {
    "collapsed": false,
    "ExecuteTime": {
     "end_time": "2024-05-23T13:23:42.801321600Z",
     "start_time": "2024-05-23T13:23:42.742528600Z"
    }
   },
   "id": "e12215c3ee9e043f",
   "execution_count": 9
  },
  {
   "cell_type": "code",
   "outputs": [
    {
     "name": "stderr",
     "output_type": "stream",
     "text": [
      "C:\\Users\\denis\\AppData\\Local\\Temp\\ipykernel_34440\\1687712060.py:3: FutureWarning: The default of observed=False is deprecated and will be changed to True in a future version of pandas. Pass observed=False to retain current behavior or observed=True to adopt the future default and silence this warning.\n",
      "  procentual_tips_per_day = tips[['day', 'procentual_tip']].groupby(by=\"day\").mean()\n"
     ]
    }
   ],
   "source": [
    "import matplotlib.pyplot as plt\n",
    "\n",
    "procentual_tips_per_day = tips[['day', 'procentual_tip']].groupby(by=\"day\").mean()\n"
   ],
   "metadata": {
    "collapsed": false,
    "ExecuteTime": {
     "end_time": "2024-05-23T13:23:43.804172800Z",
     "start_time": "2024-05-23T13:23:42.757779800Z"
    }
   },
   "id": "da7318742a69d766",
   "execution_count": 10
  },
  {
   "cell_type": "code",
   "outputs": [
    {
     "data": {
      "text/plain": "<Figure size 640x480 with 1 Axes>",
      "image/png": "[encoded data removed]"
     },
     "metadata": {},
     "output_type": "display_data"
    }
   ],
   "source": [
    "\n",
    "plt.bar(x=procentual_tips_per_day.index, height=procentual_tips_per_day['procentual_tip'])\n",
    "plt.show()"
   ],
   "metadata": {
    "collapsed": false,
    "ExecuteTime": {
     "end_time": "2024-05-23T13:23:43.946683400Z",
     "start_time": "2024-05-23T13:23:43.805173700Z"
    }
   },
   "id": "2d67fb059fe15fbd",
   "execution_count": 11
  },
  {
   "cell_type": "code",
   "outputs": [
    {
     "data": {
      "text/plain": "      procentual_tip\nsize                \n1          17.588776\n2          13.976761\n3          13.071980\n4          12.622108\n5          12.153968\n6          13.424707",
      "text/html": "<div>\n<style scoped>\n    .dataframe tbody tr th:only-of-type {\n        vertical-align: middle;\n    }\n\n    .dataframe tbody tr th {\n        vertical-align: top;\n    }\n\n    .dataframe thead th {\n        text-align: right;\n    }\n</style>\n<table border=\"1\" class=\"dataframe\">\n  <thead>\n    <tr style=\"text-align: right;\">\n      <th></th>\n      <th>procentual_tip</th>\n    </tr>\n    <tr>\n      <th>size</th>\n      <th></th>\n    </tr>\n  </thead>\n  <tbody>\n    <tr>\n      <th>1</th>\n      <td>17.588776</td>\n    </tr>\n    <tr>\n      <th>2</th>\n      <td>13.976761</td>\n    </tr>\n    <tr>\n      <th>3</th>\n      <td>13.071980</td>\n    </tr>\n    <tr>\n      <th>4</th>\n      <td>12.622108</td>\n    </tr>\n    <tr>\n      <th>5</th>\n      <td>12.153968</td>\n    </tr>\n    <tr>\n      <th>6</th>\n      <td>13.424707</td>\n    </tr>\n  </tbody>\n</table>\n</div>"
     },
     "execution_count": 12,
     "metadata": {},
     "output_type": "execute_result"
    }
   ],
   "source": [
    "tips_per_group = tips[['size', 'procentual_tip']].groupby(by=\"size\").mean()\n",
    "tips_per_group"
   ],
   "metadata": {
    "collapsed": false,
    "ExecuteTime": {
     "end_time": "2024-05-23T13:23:43.970684700Z",
     "start_time": "2024-05-23T13:23:43.945682600Z"
    }
   },
   "id": "5040ac76ee803860",
   "execution_count": 12
  },
  {
   "cell_type": "code",
   "outputs": [
    {
     "data": {
      "text/plain": "<Figure size 640x480 with 1 Axes>",
      "image/png": "[encoded data removed]"
     },
     "metadata": {},
     "output_type": "display_data"
    }
   ],
   "source": [
    "tips.boxplot(by='size', column='procentual_tip')\n",
    "plt.show()"
   ],
   "metadata": {
    "collapsed": false,
    "ExecuteTime": {
     "end_time": "2024-05-23T13:23:44.159580100Z",
     "start_time": "2024-05-23T13:23:43.958683Z"
    }
   },
   "id": "84eca8215a65a27b",
   "execution_count": 13
  },
  {
   "cell_type": "code",
   "outputs": [
    {
     "data": {
      "text/plain": "<Figure size 640x480 with 1 Axes>",
      "image/png": "[encoded data removed]"
     },
     "metadata": {},
     "output_type": "display_data"
    }
   ],
   "source": [
    "plt.hist(tips['size'])\n",
    "plt.show()"
   ],
   "metadata": {
    "collapsed": false,
    "ExecuteTime": {
     "end_time": "2024-05-23T13:23:44.285102300Z",
     "start_time": "2024-05-23T13:23:44.161580700Z"
    }
   },
   "id": "72e0ef1644936058",
   "execution_count": 14
  },
  {
   "cell_type": "markdown",
   "source": [
    "# Aufgabe 2"
   ],
   "metadata": {
    "collapsed": false
   },
   "id": "5fbfb6d043f69617"
  },
  {
   "cell_type": "code",
   "outputs": [
    {
     "data": {
      "text/plain": "     n_pregnant  gtt  blood_pressure  triceps_skin_fold_thickness  insulin  \\\n0             1   85              66                           29        0   \n1             8  183              64                            0        0   \n2             1   89              66                           23       94   \n3             0  137              40                           35      168   \n4             5  116              74                            0        0   \n..          ...  ...             ...                          ...      ...   \n762          10  101              76                           48      180   \n763           2  122              70                           27        0   \n764           5  121              72                           23      112   \n765           1  126              60                            0        0   \n766           1   93              70                           31        0   \n\n      bmi    dpf  age  class  \n0    26.6  0.351   31      0  \n1    23.3  0.672   32      1  \n2    28.1  0.167   21      0  \n3    43.1  2.288   33      1  \n4    25.6  0.201   30      0  \n..    ...    ...  ...    ...  \n762  32.9  0.171   63      0  \n763  36.8  0.340   27      0  \n764  26.2  0.245   30      0  \n765  30.1  0.349   47      1  \n766  30.4  0.315   23      0  \n\n[767 rows x 9 columns]",
      "text/html": "<div>\n<style scoped>\n    .dataframe tbody tr th:only-of-type {\n        vertical-align: middle;\n    }\n\n    .dataframe tbody tr th {\n        vertical-align: top;\n    }\n\n    .dataframe thead th {\n        text-align: right;\n    }\n</style>\n<table border=\"1\" class=\"dataframe\">\n  <thead>\n    <tr style=\"text-align: right;\">\n      <th></th>\n      <th>n_pregnant</th>\n      <th>gtt</th>\n      <th>blood_pressure</th>\n      <th>triceps_skin_fold_thickness</th>\n      <th>insulin</th>\n      <th>bmi</th>\n      <th>dpf</th>\n      <th>age</th>\n      <th>class</th>\n    </tr>\n  </thead>\n  <tbody>\n    <tr>\n      <th>0</th>\n      <td>1</td>\n      <td>85</td>\n      <td>66</td>\n      <td>29</td>\n      <td>0</td>\n      <td>26.6</td>\n      <td>0.351</td>\n      <td>31</td>\n      <td>0</td>\n    </tr>\n    <tr>\n      <th>1</th>\n      <td>8</td>\n      <td>183</td>\n      <td>64</td>\n      <td>0</td>\n      <td>0</td>\n      <td>23.3</td>\n      <td>0.672</td>\n      <td>32</td>\n      <td>1</td>\n    </tr>\n    <tr>\n      <th>2</th>\n      <td>1</td>\n      <td>89</td>\n      <td>66</td>\n      <td>23</td>\n      <td>94</td>\n      <td>28.1</td>\n      <td>0.167</td>\n      <td>21</td>\n      <td>0</td>\n    </tr>\n    <tr>\n      <th>3</th>\n      <td>0</td>\n      <td>137</td>\n      <td>40</td>\n      <td>35</td>\n      <td>168</td>\n      <td>43.1</td>\n      <td>2.288</td>\n      <td>33</td>\n      <td>1</td>\n    </tr>\n    <tr>\n      <th>4</th>\n      <td>5</td>\n      <td>116</td>\n      <td>74</td>\n      <td>0</td>\n      <td>0</td>\n      <td>25.6</td>\n      <td>0.201</td>\n      <td>30</td>\n      <td>0</td>\n    </tr>\n    <tr>\n      <th>...</th>\n      <td>...</td>\n      <td>...</td>\n      <td>...</td>\n      <td>...</td>\n      <td>...</td>\n      <td>...</td>\n      <td>...</td>\n      <td>...</td>\n      <td>...</td>\n    </tr>\n    <tr>\n      <th>762</th>\n      <td>10</td>\n      <td>101</td>\n      <td>76</td>\n      <td>48</td>\n      <td>180</td>\n      <td>32.9</td>\n      <td>0.171</td>\n      <td>63</td>\n      <td>0</td>\n    </tr>\n    <tr>\n      <th>763</th>\n      <td>2</td>\n      <td>122</td>\n      <td>70</td>\n      <td>27</td>\n      <td>0</td>\n      <td>36.8</td>\n      <td>0.340</td>\n      <td>27</td>\n      <td>0</td>\n    </tr>\n    <tr>\n      <th>764</th>\n      <td>5</td>\n      <td>121</td>\n      <td>72</td>\n      <td>23</td>\n      <td>112</td>\n      <td>26.2</td>\n      <td>0.245</td>\n      <td>30</td>\n      <td>0</td>\n    </tr>\n    <tr>\n      <th>765</th>\n      <td>1</td>\n      <td>126</td>\n      <td>60</td>\n      <td>0</td>\n      <td>0</td>\n      <td>30.1</td>\n      <td>0.349</td>\n      <td>47</td>\n      <td>1</td>\n    </tr>\n    <tr>\n      <th>766</th>\n      <td>1</td>\n      <td>93</td>\n      <td>70</td>\n      <td>31</td>\n      <td>0</td>\n      <td>30.4</td>\n      <td>0.315</td>\n      <td>23</td>\n      <td>0</td>\n    </tr>\n  </tbody>\n</table>\n<p>767 rows × 9 columns</p>\n</div>"
     },
     "execution_count": 15,
     "metadata": {},
     "output_type": "execute_result"
    }
   ],
   "source": [
    "df = pd.read_excel('diabetes.xlsx', sheet_name='data',header=0)\n",
    "df"
   ],
   "metadata": {
    "collapsed": false,
    "ExecuteTime": {
     "end_time": "2024-05-23T13:23:44.775199800Z",
     "start_time": "2024-05-23T13:23:44.286107700Z"
    }
   },
   "id": "986289104c4b8f99",
   "execution_count": 15
  },
  {
   "cell_type": "code",
   "outputs": [
    {
     "data": {
      "text/plain": "35"
     },
     "execution_count": 16,
     "metadata": {},
     "output_type": "execute_result"
    }
   ],
   "source": [
    "(df['blood_pressure']==0).sum()"
   ],
   "metadata": {
    "collapsed": false,
    "ExecuteTime": {
     "end_time": "2024-05-23T13:23:44.790289600Z",
     "start_time": "2024-05-23T13:23:44.777199200Z"
    }
   },
   "id": "20ab5f11de3d25a2",
   "execution_count": 16
  },
  {
   "cell_type": "code",
   "outputs": [],
   "source": [
    "imputiertesDf = df.copy()\n",
    "bmischnitt = round(imputiertesDf[imputiertesDf['bmi'] != 0].mean(),0)\n",
    "imputiertesDf[imputiertesDf['bmi'] == 0] = bmischnitt"
   ],
   "metadata": {
    "collapsed": false,
    "ExecuteTime": {
     "end_time": "2024-05-23T13:23:44.849802300Z",
     "start_time": "2024-05-23T13:23:44.793289700Z"
    }
   },
   "id": "8afde1dca6a11686",
   "execution_count": 17
  },
  {
   "cell_type": "code",
   "outputs": [
    {
     "data": {
      "text/plain": "     n_pregnant  gtt  blood_pressure  triceps_skin_fold_thickness  insulin  \\\n8             4  121              70                           21       81   \n48            4  121              70                           21       81   \n59            4  121              70                           21       81   \n80            4  121              70                           21       81   \n144           4  121              70                           21       81   \n370           4  121              70                           21       81   \n425           4  121              70                           21       81   \n493           4  121              70                           21       81   \n521           4  121              70                           21       81   \n683           4  121              70                           21       81   \n705           4  121              70                           21       81   \n\n      bmi  dpf  age  class  \n8    32.0  0.0   33      0  \n48   32.0  0.0   33      0  \n59   32.0  0.0   33      0  \n80   32.0  0.0   33      0  \n144  32.0  0.0   33      0  \n370  32.0  0.0   33      0  \n425  32.0  0.0   33      0  \n493  32.0  0.0   33      0  \n521  32.0  0.0   33      0  \n683  32.0  0.0   33      0  \n705  32.0  0.0   33      0  ",
      "text/html": "<div>\n<style scoped>\n    .dataframe tbody tr th:only-of-type {\n        vertical-align: middle;\n    }\n\n    .dataframe tbody tr th {\n        vertical-align: top;\n    }\n\n    .dataframe thead th {\n        text-align: right;\n    }\n</style>\n<table border=\"1\" class=\"dataframe\">\n  <thead>\n    <tr style=\"text-align: right;\">\n      <th></th>\n      <th>n_pregnant</th>\n      <th>gtt</th>\n      <th>blood_pressure</th>\n      <th>triceps_skin_fold_thickness</th>\n      <th>insulin</th>\n      <th>bmi</th>\n      <th>dpf</th>\n      <th>age</th>\n      <th>class</th>\n    </tr>\n  </thead>\n  <tbody>\n    <tr>\n      <th>8</th>\n      <td>4</td>\n      <td>121</td>\n      <td>70</td>\n      <td>21</td>\n      <td>81</td>\n      <td>32.0</td>\n      <td>0.0</td>\n      <td>33</td>\n      <td>0</td>\n    </tr>\n    <tr>\n      <th>48</th>\n      <td>4</td>\n      <td>121</td>\n      <td>70</td>\n      <td>21</td>\n      <td>81</td>\n      <td>32.0</td>\n      <td>0.0</td>\n      <td>33</td>\n      <td>0</td>\n    </tr>\n    <tr>\n      <th>59</th>\n      <td>4</td>\n      <td>121</td>\n      <td>70</td>\n      <td>21</td>\n      <td>81</td>\n      <td>32.0</td>\n      <td>0.0</td>\n      <td>33</td>\n      <td>0</td>\n    </tr>\n    <tr>\n      <th>80</th>\n      <td>4</td>\n      <td>121</td>\n      <td>70</td>\n      <td>21</td>\n      <td>81</td>\n      <td>32.0</td>\n      <td>0.0</td>\n      <td>33</td>\n      <td>0</td>\n    </tr>\n    <tr>\n      <th>144</th>\n      <td>4</td>\n      <td>121</td>\n      <td>70</td>\n      <td>21</td>\n      <td>81</td>\n      <td>32.0</td>\n      <td>0.0</td>\n      <td>33</td>\n      <td>0</td>\n    </tr>\n    <tr>\n      <th>370</th>\n      <td>4</td>\n      <td>121</td>\n      <td>70</td>\n      <td>21</td>\n      <td>81</td>\n      <td>32.0</td>\n      <td>0.0</td>\n      <td>33</td>\n      <td>0</td>\n    </tr>\n    <tr>\n      <th>425</th>\n      <td>4</td>\n      <td>121</td>\n      <td>70</td>\n      <td>21</td>\n      <td>81</td>\n      <td>32.0</td>\n      <td>0.0</td>\n      <td>33</td>\n      <td>0</td>\n    </tr>\n    <tr>\n      <th>493</th>\n      <td>4</td>\n      <td>121</td>\n      <td>70</td>\n      <td>21</td>\n      <td>81</td>\n      <td>32.0</td>\n      <td>0.0</td>\n      <td>33</td>\n      <td>0</td>\n    </tr>\n    <tr>\n      <th>521</th>\n      <td>4</td>\n      <td>121</td>\n      <td>70</td>\n      <td>21</td>\n      <td>81</td>\n      <td>32.0</td>\n      <td>0.0</td>\n      <td>33</td>\n      <td>0</td>\n    </tr>\n    <tr>\n      <th>683</th>\n      <td>4</td>\n      <td>121</td>\n      <td>70</td>\n      <td>21</td>\n      <td>81</td>\n      <td>32.0</td>\n      <td>0.0</td>\n      <td>33</td>\n      <td>0</td>\n    </tr>\n    <tr>\n      <th>705</th>\n      <td>4</td>\n      <td>121</td>\n      <td>70</td>\n      <td>21</td>\n      <td>81</td>\n      <td>32.0</td>\n      <td>0.0</td>\n      <td>33</td>\n      <td>0</td>\n    </tr>\n  </tbody>\n</table>\n</div>"
     },
     "execution_count": 18,
     "metadata": {},
     "output_type": "execute_result"
    }
   ],
   "source": [
    "imputiertesDf[df['bmi'] == 0]"
   ],
   "metadata": {
    "collapsed": false,
    "ExecuteTime": {
     "end_time": "2024-05-23T13:23:44.883805100Z",
     "start_time": "2024-05-23T13:23:44.807803200Z"
    }
   },
   "id": "5d8faf9cfa6a2990",
   "execution_count": 18
  },
  {
   "cell_type": "code",
   "outputs": [
    {
     "data": {
      "text/plain": "     n_pregnant  gtt  blood_pressure  triceps_skin_fold_thickness  insulin  \\\n74            3  118              72                           23       44   \n181           3  118              72                           23       44   \n341           3  118              72                           23       44   \n348           3  118              72                           23       44   \n501           3  118              72                           23       44   \n\n      bmi    dpf  age  class  \n74   32.0  0.369   29      0  \n181  32.0  0.369   29      0  \n341  32.0  0.369   29      0  \n348  32.0  0.369   29      0  \n501  32.0  0.369   29      0  ",
      "text/html": "<div>\n<style scoped>\n    .dataframe tbody tr th:only-of-type {\n        vertical-align: middle;\n    }\n\n    .dataframe tbody tr th {\n        vertical-align: top;\n    }\n\n    .dataframe thead th {\n        text-align: right;\n    }\n</style>\n<table border=\"1\" class=\"dataframe\">\n  <thead>\n    <tr style=\"text-align: right;\">\n      <th></th>\n      <th>n_pregnant</th>\n      <th>gtt</th>\n      <th>blood_pressure</th>\n      <th>triceps_skin_fold_thickness</th>\n      <th>insulin</th>\n      <th>bmi</th>\n      <th>dpf</th>\n      <th>age</th>\n      <th>class</th>\n    </tr>\n  </thead>\n  <tbody>\n    <tr>\n      <th>74</th>\n      <td>3</td>\n      <td>118</td>\n      <td>72</td>\n      <td>23</td>\n      <td>44</td>\n      <td>32.0</td>\n      <td>0.369</td>\n      <td>29</td>\n      <td>0</td>\n    </tr>\n    <tr>\n      <th>181</th>\n      <td>3</td>\n      <td>118</td>\n      <td>72</td>\n      <td>23</td>\n      <td>44</td>\n      <td>32.0</td>\n      <td>0.369</td>\n      <td>29</td>\n      <td>0</td>\n    </tr>\n    <tr>\n      <th>341</th>\n      <td>3</td>\n      <td>118</td>\n      <td>72</td>\n      <td>23</td>\n      <td>44</td>\n      <td>32.0</td>\n      <td>0.369</td>\n      <td>29</td>\n      <td>0</td>\n    </tr>\n    <tr>\n      <th>348</th>\n      <td>3</td>\n      <td>118</td>\n      <td>72</td>\n      <td>23</td>\n      <td>44</td>\n      <td>32.0</td>\n      <td>0.369</td>\n      <td>29</td>\n      <td>0</td>\n    </tr>\n    <tr>\n      <th>501</th>\n      <td>3</td>\n      <td>118</td>\n      <td>72</td>\n      <td>23</td>\n      <td>44</td>\n      <td>32.0</td>\n      <td>0.369</td>\n      <td>29</td>\n      <td>0</td>\n    </tr>\n  </tbody>\n</table>\n</div>"
     },
     "execution_count": 19,
     "metadata": {},
     "output_type": "execute_result"
    }
   ],
   "source": [
    "gttschnitt = imputiertesDf[imputiertesDf['gtt'] != 0].median()\n",
    "imputiertesDf[imputiertesDf['gtt'] == 0] = gttschnitt\n",
    "imputiertesDf[df['gtt'] == 0]"
   ],
   "metadata": {
    "collapsed": false,
    "ExecuteTime": {
     "end_time": "2024-05-23T13:23:44.909549800Z",
     "start_time": "2024-05-23T13:23:44.822805100Z"
    }
   },
   "id": "659982f9393497b6",
   "execution_count": 19
  },
  {
   "cell_type": "code",
   "outputs": [
    {
     "data": {
      "text/plain": "     n_pregnant  gtt  blood_pressure  triceps_skin_fold_thickness  insulin  \\\n6             4  122              72                           21       84   \n14            4  122              72                           21       84   \n48            4  121              70                           21       81   \n59            4  121              70                           21       81   \n77            4  122              72                           21       84   \n80            4  121              70                           21       81   \n171           4  122              72                           21       84   \n192           4  122              72                           21       84   \n221           4  122              72                           21       84   \n260           4  122              72                           21       84   \n265           4  122              72                           21       84   \n268           4  122              72                           21       84   \n299           4  122              72                           21       84   \n331           4  122              72                           21       84   \n335           4  122              72                           21       84   \n346           4  122              72                           21       84   \n356           4  122              72                           21       84   \n425           4  121              70                           21       81   \n429           4  122              72                           21       84   \n434           4  122              72                           21       84   \n452           4  122              72                           21       84   \n467           4  122              72                           21       84   \n483           4  122              72                           21       84   \n493           4  121              70                           21       81   \n521           4  121              70                           21       81   \n532           4  122              72                           21       84   \n534           4  122              72                           21       84   \n588           4  122              72                           21       84   \n600           4  122              72                           21       84   \n603           4  122              72                           21       84   \n618           4  122              72                           21       84   \n642           4  122              72                           21       84   \n696           4  122              72                           21       84   \n702           4  122              72                           21       84   \n705           4  121              70                           21       81   \n\n      bmi  dpf  age  class  \n6    32.0  0.0   33      0  \n14   32.0  0.0   33      0  \n48   32.0  0.0   33      0  \n59   32.0  0.0   33      0  \n77   32.0  0.0   33      0  \n80   32.0  0.0   33      0  \n171  32.0  0.0   33      0  \n192  32.0  0.0   33      0  \n221  32.0  0.0   33      0  \n260  32.0  0.0   33      0  \n265  32.0  0.0   33      0  \n268  32.0  0.0   33      0  \n299  32.0  0.0   33      0  \n331  32.0  0.0   33      0  \n335  32.0  0.0   33      0  \n346  32.0  0.0   33      0  \n356  32.0  0.0   33      0  \n425  32.0  0.0   33      0  \n429  32.0  0.0   33      0  \n434  32.0  0.0   33      0  \n452  32.0  0.0   33      0  \n467  32.0  0.0   33      0  \n483  32.0  0.0   33      0  \n493  32.0  0.0   33      0  \n521  32.0  0.0   33      0  \n532  32.0  0.0   33      0  \n534  32.0  0.0   33      0  \n588  32.0  0.0   33      0  \n600  32.0  0.0   33      0  \n603  32.0  0.0   33      0  \n618  32.0  0.0   33      0  \n642  32.0  0.0   33      0  \n696  32.0  0.0   33      0  \n702  32.0  0.0   33      0  \n705  32.0  0.0   33      0  ",
      "text/html": "<div>\n<style scoped>\n    .dataframe tbody tr th:only-of-type {\n        vertical-align: middle;\n    }\n\n    .dataframe tbody tr th {\n        vertical-align: top;\n    }\n\n    .dataframe thead th {\n        text-align: right;\n    }\n</style>\n<table border=\"1\" class=\"dataframe\">\n  <thead>\n    <tr style=\"text-align: right;\">\n      <th></th>\n      <th>n_pregnant</th>\n      <th>gtt</th>\n      <th>blood_pressure</th>\n      <th>triceps_skin_fold_thickness</th>\n      <th>insulin</th>\n      <th>bmi</th>\n      <th>dpf</th>\n      <th>age</th>\n      <th>class</th>\n    </tr>\n  </thead>\n  <tbody>\n    <tr>\n      <th>6</th>\n      <td>4</td>\n      <td>122</td>\n      <td>72</td>\n      <td>21</td>\n      <td>84</td>\n      <td>32.0</td>\n      <td>0.0</td>\n      <td>33</td>\n      <td>0</td>\n    </tr>\n    <tr>\n      <th>14</th>\n      <td>4</td>\n      <td>122</td>\n      <td>72</td>\n      <td>21</td>\n      <td>84</td>\n      <td>32.0</td>\n      <td>0.0</td>\n      <td>33</td>\n      <td>0</td>\n    </tr>\n    <tr>\n      <th>48</th>\n      <td>4</td>\n      <td>121</td>\n      <td>70</td>\n      <td>21</td>\n      <td>81</td>\n      <td>32.0</td>\n      <td>0.0</td>\n      <td>33</td>\n      <td>0</td>\n    </tr>\n    <tr>\n      <th>59</th>\n      <td>4</td>\n      <td>121</td>\n      <td>70</td>\n      <td>21</td>\n      <td>81</td>\n      <td>32.0</td>\n      <td>0.0</td>\n      <td>33</td>\n      <td>0</td>\n    </tr>\n    <tr>\n      <th>77</th>\n      <td>4</td>\n      <td>122</td>\n      <td>72</td>\n      <td>21</td>\n      <td>84</td>\n      <td>32.0</td>\n      <td>0.0</td>\n      <td>33</td>\n      <td>0</td>\n    </tr>\n    <tr>\n      <th>80</th>\n      <td>4</td>\n      <td>121</td>\n      <td>70</td>\n      <td>21</td>\n      <td>81</td>\n      <td>32.0</td>\n      <td>0.0</td>\n      <td>33</td>\n      <td>0</td>\n    </tr>\n    <tr>\n      <th>171</th>\n      <td>4</td>\n      <td>122</td>\n      <td>72</td>\n      <td>21</td>\n      <td>84</td>\n      <td>32.0</td>\n      <td>0.0</td>\n      <td>33</td>\n      <td>0</td>\n    </tr>\n    <tr>\n      <th>192</th>\n      <td>4</td>\n      <td>122</td>\n      <td>72</td>\n      <td>21</td>\n      <td>84</td>\n      <td>32.0</td>\n      <td>0.0</td>\n      <td>33</td>\n      <td>0</td>\n    </tr>\n    <tr>\n      <th>221</th>\n      <td>4</td>\n      <td>122</td>\n      <td>72</td>\n      <td>21</td>\n      <td>84</td>\n      <td>32.0</td>\n      <td>0.0</td>\n      <td>33</td>\n      <td>0</td>\n    </tr>\n    <tr>\n      <th>260</th>\n      <td>4</td>\n      <td>122</td>\n      <td>72</td>\n      <td>21</td>\n      <td>84</td>\n      <td>32.0</td>\n      <td>0.0</td>\n      <td>33</td>\n      <td>0</td>\n    </tr>\n    <tr>\n      <th>265</th>\n      <td>4</td>\n      <td>122</td>\n      <td>72</td>\n      <td>21</td>\n      <td>84</td>\n      <td>32.0</td>\n      <td>0.0</td>\n      <td>33</td>\n      <td>0</td>\n    </tr>\n    <tr>\n      <th>268</th>\n      <td>4</td>\n      <td>122</td>\n      <td>72</td>\n      <td>21</td>\n      <td>84</td>\n      <td>32.0</td>\n      <td>0.0</td>\n      <td>33</td>\n      <td>0</td>\n    </tr>\n    <tr>\n      <th>299</th>\n      <td>4</td>\n      <td>122</td>\n      <td>72</td>\n      <td>21</td>\n      <td>84</td>\n      <td>32.0</td>\n      <td>0.0</td>\n      <td>33</td>\n      <td>0</td>\n    </tr>\n    <tr>\n      <th>331</th>\n      <td>4</td>\n      <td>122</td>\n      <td>72</td>\n      <td>21</td>\n      <td>84</td>\n      <td>32.0</td>\n      <td>0.0</td>\n      <td>33</td>\n      <td>0</td>\n    </tr>\n    <tr>\n      <th>335</th>\n      <td>4</td>\n      <td>122</td>\n      <td>72</td>\n      <td>21</td>\n      <td>84</td>\n      <td>32.0</td>\n      <td>0.0</td>\n      <td>33</td>\n      <td>0</td>\n    </tr>\n    <tr>\n      <th>346</th>\n      <td>4</td>\n      <td>122</td>\n      <td>72</td>\n      <td>21</td>\n      <td>84</td>\n      <td>32.0</td>\n      <td>0.0</td>\n      <td>33</td>\n      <td>0</td>\n    </tr>\n    <tr>\n      <th>356</th>\n      <td>4</td>\n      <td>122</td>\n      <td>72</td>\n      <td>21</td>\n      <td>84</td>\n      <td>32.0</td>\n      <td>0.0</td>\n      <td>33</td>\n      <td>0</td>\n    </tr>\n    <tr>\n      <th>425</th>\n      <td>4</td>\n      <td>121</td>\n      <td>70</td>\n      <td>21</td>\n      <td>81</td>\n      <td>32.0</td>\n      <td>0.0</td>\n      <td>33</td>\n      <td>0</td>\n    </tr>\n    <tr>\n      <th>429</th>\n      <td>4</td>\n      <td>122</td>\n      <td>72</td>\n      <td>21</td>\n      <td>84</td>\n      <td>32.0</td>\n      <td>0.0</td>\n      <td>33</td>\n      <td>0</td>\n    </tr>\n    <tr>\n      <th>434</th>\n      <td>4</td>\n      <td>122</td>\n      <td>72</td>\n      <td>21</td>\n      <td>84</td>\n      <td>32.0</td>\n      <td>0.0</td>\n      <td>33</td>\n      <td>0</td>\n    </tr>\n    <tr>\n      <th>452</th>\n      <td>4</td>\n      <td>122</td>\n      <td>72</td>\n      <td>21</td>\n      <td>84</td>\n      <td>32.0</td>\n      <td>0.0</td>\n      <td>33</td>\n      <td>0</td>\n    </tr>\n    <tr>\n      <th>467</th>\n      <td>4</td>\n      <td>122</td>\n      <td>72</td>\n      <td>21</td>\n      <td>84</td>\n      <td>32.0</td>\n      <td>0.0</td>\n      <td>33</td>\n      <td>0</td>\n    </tr>\n    <tr>\n      <th>483</th>\n      <td>4</td>\n      <td>122</td>\n      <td>72</td>\n      <td>21</td>\n      <td>84</td>\n      <td>32.0</td>\n      <td>0.0</td>\n      <td>33</td>\n      <td>0</td>\n    </tr>\n    <tr>\n      <th>493</th>\n      <td>4</td>\n      <td>121</td>\n      <td>70</td>\n      <td>21</td>\n      <td>81</td>\n      <td>32.0</td>\n      <td>0.0</td>\n      <td>33</td>\n      <td>0</td>\n    </tr>\n    <tr>\n      <th>521</th>\n      <td>4</td>\n      <td>121</td>\n      <td>70</td>\n      <td>21</td>\n      <td>81</td>\n      <td>32.0</td>\n      <td>0.0</td>\n      <td>33</td>\n      <td>0</td>\n    </tr>\n    <tr>\n      <th>532</th>\n      <td>4</td>\n      <td>122</td>\n      <td>72</td>\n      <td>21</td>\n      <td>84</td>\n      <td>32.0</td>\n      <td>0.0</td>\n      <td>33</td>\n      <td>0</td>\n    </tr>\n    <tr>\n      <th>534</th>\n      <td>4</td>\n      <td>122</td>\n      <td>72</td>\n      <td>21</td>\n      <td>84</td>\n      <td>32.0</td>\n      <td>0.0</td>\n      <td>33</td>\n      <td>0</td>\n    </tr>\n    <tr>\n      <th>588</th>\n      <td>4</td>\n      <td>122</td>\n      <td>72</td>\n      <td>21</td>\n      <td>84</td>\n      <td>32.0</td>\n      <td>0.0</td>\n      <td>33</td>\n      <td>0</td>\n    </tr>\n    <tr>\n      <th>600</th>\n      <td>4</td>\n      <td>122</td>\n      <td>72</td>\n      <td>21</td>\n      <td>84</td>\n      <td>32.0</td>\n      <td>0.0</td>\n      <td>33</td>\n      <td>0</td>\n    </tr>\n    <tr>\n      <th>603</th>\n      <td>4</td>\n      <td>122</td>\n      <td>72</td>\n      <td>21</td>\n      <td>84</td>\n      <td>32.0</td>\n      <td>0.0</td>\n      <td>33</td>\n      <td>0</td>\n    </tr>\n    <tr>\n      <th>618</th>\n      <td>4</td>\n      <td>122</td>\n      <td>72</td>\n      <td>21</td>\n      <td>84</td>\n      <td>32.0</td>\n      <td>0.0</td>\n      <td>33</td>\n      <td>0</td>\n    </tr>\n    <tr>\n      <th>642</th>\n      <td>4</td>\n      <td>122</td>\n      <td>72</td>\n      <td>21</td>\n      <td>84</td>\n      <td>32.0</td>\n      <td>0.0</td>\n      <td>33</td>\n      <td>0</td>\n    </tr>\n    <tr>\n      <th>696</th>\n      <td>4</td>\n      <td>122</td>\n      <td>72</td>\n      <td>21</td>\n      <td>84</td>\n      <td>32.0</td>\n      <td>0.0</td>\n      <td>33</td>\n      <td>0</td>\n    </tr>\n    <tr>\n      <th>702</th>\n      <td>4</td>\n      <td>122</td>\n      <td>72</td>\n      <td>21</td>\n      <td>84</td>\n      <td>32.0</td>\n      <td>0.0</td>\n      <td>33</td>\n      <td>0</td>\n    </tr>\n    <tr>\n      <th>705</th>\n      <td>4</td>\n      <td>121</td>\n      <td>70</td>\n      <td>21</td>\n      <td>81</td>\n      <td>32.0</td>\n      <td>0.0</td>\n      <td>33</td>\n      <td>0</td>\n    </tr>\n  </tbody>\n</table>\n</div>"
     },
     "execution_count": 20,
     "metadata": {},
     "output_type": "execute_result"
    }
   ],
   "source": [
    "gttschnitt = round(imputiertesDf[imputiertesDf['blood_pressure'] != 0].mean(),0)\n",
    "imputiertesDf[imputiertesDf['blood_pressure'] == 0] = gttschnitt\n",
    "imputiertesDf[df['blood_pressure'] == 0]"
   ],
   "metadata": {
    "collapsed": false,
    "ExecuteTime": {
     "end_time": "2024-05-23T13:23:44.931503100Z",
     "start_time": "2024-05-23T13:23:44.838804200Z"
    }
   },
   "id": "1bef9be15ceef979",
   "execution_count": 20
  },
  {
   "cell_type": "code",
   "outputs": [
    {
     "ename": "ModuleNotFoundError",
     "evalue": "No module named 'sklearn.impute.KNNImputer'",
     "output_type": "error",
     "traceback": [
      "\u001B[1;31m---------------------------------------------------------------------------\u001B[0m",
      "\u001B[1;31mModuleNotFoundError\u001B[0m                       Traceback (most recent call last)",
      "Cell \u001B[1;32mIn[21], line 1\u001B[0m\n\u001B[1;32m----> 1\u001B[0m \u001B[38;5;28;01mimport\u001B[39;00m \u001B[38;5;21;01msklearn\u001B[39;00m\u001B[38;5;21;01m.\u001B[39;00m\u001B[38;5;21;01mimpute\u001B[39;00m\u001B[38;5;21;01m.\u001B[39;00m\u001B[38;5;21;01mKNNImputer\u001B[39;00m\n",
      "\u001B[1;31mModuleNotFoundError\u001B[0m: No module named 'sklearn.impute.KNNImputer'"
     ]
    }
   ],
   "source": [
    "import sklearn.impute.KNNImputer\n"
   ],
   "metadata": {
    "collapsed": false,
    "ExecuteTime": {
     "end_time": "2024-05-23T13:23:48.834585600Z",
     "start_time": "2024-05-23T13:23:44.870803800Z"
    }
   },
   "id": "d56a07239fccfe7a",
   "execution_count": 21
  }
 ],
 "metadata": {
  "kernelspec": {
   "display_name": "Python 3",
   "language": "python",
   "name": "python3"
  },
  "language_info": {
   "codemirror_mode": {
    "name": "ipython",
    "version": 2
   },
   "file_extension": ".py",
   "mimetype": "text/x-python",
   "name": "python",
   "nbconvert_exporter": "python",
   "pygments_lexer": "ipython2",
   "version": "2.7.6"
  }
 },
 "nbformat": 4,
 "nbformat_minor": 5
}
